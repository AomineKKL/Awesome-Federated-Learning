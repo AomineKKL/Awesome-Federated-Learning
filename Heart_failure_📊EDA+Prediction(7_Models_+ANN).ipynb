{
  "metadata": {
    "kernelspec": {
      "language": "python",
      "display_name": "Python 3",
      "name": "python3"
    },
    "language_info": {
      "name": "python",
      "version": "3.10.12",
      "mimetype": "text/x-python",
      "codemirror_mode": {
        "name": "ipython",
        "version": 3
      },
      "pygments_lexer": "ipython3",
      "nbconvert_exporter": "python",
      "file_extension": ".py"
    },
    "kaggle": {
      "accelerator": "none",
      "dataSources": [
        {
          "sourceId": 1263738,
          "sourceType": "datasetVersion",
          "datasetId": 727551
        }
      ],
      "dockerImageVersionId": 30635,
      "isInternetEnabled": true,
      "language": "python",
      "sourceType": "notebook",
      "isGpuEnabled": false
    },
    "colab": {
      "name": "Heart failure : 📊EDA+Prediction(7 Models +ANN)",
      "provenance": [],
      "include_colab_link": true
    }
  },
  "nbformat_minor": 0,
  "nbformat": 4,
  "cells": [
    {
      "cell_type": "markdown",
      "metadata": {
        "id": "view-in-github",
        "colab_type": "text"
      },
      "source": [
        "<a href=\"https://colab.research.google.com/github/AomineKKL/Awesome-Federated-Learning/blob/master/Heart_failure_%F0%9F%93%8AEDA%2BPrediction(7_Models_%2BANN).ipynb\" target=\"_parent\"><img src=\"https://colab.research.google.com/assets/colab-badge.svg\" alt=\"Open In Colab\"/></a>"
      ]
    },
    {
      "source": [
        "\n",
        "# IMPORTANT: RUN THIS CELL IN ORDER TO IMPORT YOUR KAGGLE DATA SOURCES\n",
        "# TO THE CORRECT LOCATION (/kaggle/input) IN YOUR NOTEBOOK,\n",
        "# THEN FEEL FREE TO DELETE THIS CELL.\n",
        "# NOTE: THIS NOTEBOOK ENVIRONMENT DIFFERS FROM KAGGLE'S PYTHON\n",
        "# ENVIRONMENT SO THERE MAY BE MISSING LIBRARIES USED BY YOUR\n",
        "# NOTEBOOK.\n",
        "\n",
        "import os\n",
        "import sys\n",
        "from tempfile import NamedTemporaryFile\n",
        "from urllib.request import urlopen\n",
        "from urllib.parse import unquote, urlparse\n",
        "from urllib.error import HTTPError\n",
        "from zipfile import ZipFile\n",
        "import tarfile\n",
        "import shutil\n",
        "\n",
        "CHUNK_SIZE = 40960\n",
        "DATA_SOURCE_MAPPING = 'heart-failure-clinical-data:https%3A%2F%2Fstorage.googleapis.com%2Fkaggle-data-sets%2F727551%2F1263738%2Fbundle%2Farchive.zip%3FX-Goog-Algorithm%3DGOOG4-RSA-SHA256%26X-Goog-Credential%3Dgcp-kaggle-com%2540kaggle-161607.iam.gserviceaccount.com%252F20240128%252Fauto%252Fstorage%252Fgoog4_request%26X-Goog-Date%3D20240128T093143Z%26X-Goog-Expires%3D259200%26X-Goog-SignedHeaders%3Dhost%26X-Goog-Signature%3D2a870a8bf139f1bd7c1bb626c809f80bf539250f5f1db865293bc78612333d6f1bd1662a554dcc66142a2e05b9eee127d5fdbe37a85ed0f770bbc6eec58a8f940c07bc7f3d0ce365eda90fd97e90c1c2fbb3f2e47ce8b0a1e4718bce98293de5d9889b855a706a141204b204e0af9fcc320ab5b9cacf287932b5ecaba67d9a18f8bb4f6a4cd9c5a854370dc03c48e84b86544ba058ab2db57b0eceac53ae9559fafbc3a9816ff512005d3de117aa62c1cdccd0b0828b6dfb7c099ff5ecc05e096930488d20db13dee56a834263e1b669b3645a591e307c18337066a9beeb129e4af6ecea9a3d43ba6600bf4ca2ce73c0ee429484fd2ff7efbb7607e3e0d30dec'\n",
        "\n",
        "KAGGLE_INPUT_PATH='/kaggle/input'\n",
        "KAGGLE_WORKING_PATH='/kaggle/working'\n",
        "KAGGLE_SYMLINK='kaggle'\n",
        "\n",
        "!umount /kaggle/input/ 2> /dev/null\n",
        "shutil.rmtree('/kaggle/input', ignore_errors=True)\n",
        "os.makedirs(KAGGLE_INPUT_PATH, 0o777, exist_ok=True)\n",
        "os.makedirs(KAGGLE_WORKING_PATH, 0o777, exist_ok=True)\n",
        "\n",
        "try:\n",
        "  os.symlink(KAGGLE_INPUT_PATH, os.path.join(\"..\", 'input'), target_is_directory=True)\n",
        "except FileExistsError:\n",
        "  pass\n",
        "try:\n",
        "  os.symlink(KAGGLE_WORKING_PATH, os.path.join(\"..\", 'working'), target_is_directory=True)\n",
        "except FileExistsError:\n",
        "  pass\n",
        "\n",
        "for data_source_mapping in DATA_SOURCE_MAPPING.split(','):\n",
        "    directory, download_url_encoded = data_source_mapping.split(':')\n",
        "    download_url = unquote(download_url_encoded)\n",
        "    filename = urlparse(download_url).path\n",
        "    destination_path = os.path.join(KAGGLE_INPUT_PATH, directory)\n",
        "    try:\n",
        "        with urlopen(download_url) as fileres, NamedTemporaryFile() as tfile:\n",
        "            total_length = fileres.headers['content-length']\n",
        "            print(f'Downloading {directory}, {total_length} bytes compressed')\n",
        "            dl = 0\n",
        "            data = fileres.read(CHUNK_SIZE)\n",
        "            while len(data) > 0:\n",
        "                dl += len(data)\n",
        "                tfile.write(data)\n",
        "                done = int(50 * dl / int(total_length))\n",
        "                sys.stdout.write(f\"\\r[{'=' * done}{' ' * (50-done)}] {dl} bytes downloaded\")\n",
        "                sys.stdout.flush()\n",
        "                data = fileres.read(CHUNK_SIZE)\n",
        "            if filename.endswith('.zip'):\n",
        "              with ZipFile(tfile) as zfile:\n",
        "                zfile.extractall(destination_path)\n",
        "            else:\n",
        "              with tarfile.open(tfile.name) as tarfile:\n",
        "                tarfile.extractall(destination_path)\n",
        "            print(f'\\nDownloaded and uncompressed: {directory}')\n",
        "    except HTTPError as e:\n",
        "        print(f'Failed to load (likely expired) {download_url} to path {destination_path}')\n",
        "        continue\n",
        "    except OSError as e:\n",
        "        print(f'Failed to load {download_url} to path {destination_path}')\n",
        "        continue\n",
        "\n",
        "print('Data source import complete.')\n"
      ],
      "metadata": {
        "id": "fWTO-z8CaQD2"
      },
      "cell_type": "code",
      "outputs": [],
      "execution_count": null
    },
    {
      "cell_type": "markdown",
      "source": [
        "<div style=\"color:white;\n",
        "            display:fill;\n",
        "            border-radius:15px;\n",
        "            background-color:black;\n",
        "            font-size:100%;\n",
        "            font-family:Verdana;\n",
        "            letter-spacing:1px\">\n",
        "    <h2 style='padding: 20px;\n",
        "              color:red;\n",
        "              text-align:center;'>\n",
        "        Heart Failure Prediction Using Machine learning\n",
        "    </h2>\n",
        "    </div>"
      ],
      "metadata": {
        "id": "cFTu3IZVaQD5"
      }
    },
    {
      "cell_type": "markdown",
      "source": [
        "![heart](https://www.narayanahealth.org/sites/default/files/pillar-page/heart-failure-banner-bg.jpg)\n",
        "\n",
        "Heart failure occurs when the heart's ability to pump blood diminishes, leading to inadequate circulation. Common causes include coronary artery disease, hypertension, and previous heart attacks. Globally, heart failure affects millions, with an estimated 26 million people diagnosed. Its prevalence is rising due to aging populations and lifestyle factors. Timely intervention, lifestyle changes, and medical management are crucial for mitigating its impact."
      ],
      "metadata": {
        "id": "k8pMBlghaQD6"
      }
    },
    {
      "cell_type": "markdown",
      "source": [
        "# **<span style=\"color:#3B7CE7\">Domain Knowledge</span>**"
      ],
      "metadata": {
        "id": "gT6RxFXHaQD6"
      }
    },
    {
      "cell_type": "markdown",
      "source": [
        "`Anaemia` : Indicates decrease of red blood cells or hemoglobin.\n",
        "\n",
        "`Creatinine Phosphokinase` : It is an enzyme present in the heart, whose elevated levels in the bloodstream indicate muscle or cardiac damage.\n",
        "\n",
        "`Diabetes` : It is a chronic medical condition characterized by elevated blood sugar levels resulting from insufficient insulin production or the body's inability to effectively use insulin.\n",
        "\n",
        "`Ejection Fraction` : It is a measure of the percentage of blood that the heart's left ventricle pumps out with each contraction, providing an assessment of the heart's pumping efficiency; a lower EF may indicate heart dysfunction or failure.\n",
        "\n",
        "`Blood Pressure` : Blood pressure is the force exerted by circulating blood against the walls of arteries.\n",
        "\n",
        "`Platelets` : platelets help prevent excessive bleeding by forming blood clots at the site of vascular injury.\n",
        "\n",
        "`Serum Creatinine` : Serum creatinine is a waste product generated by muscle metabolism that is filtered out of the blood by the kidneys.\n",
        "\n",
        "`Serum Sodium` : Serum sodium refers to the concentration of sodium ions in the liquid component of blood.\n",
        "\n",
        "`sex` : The sex of the patient.\n",
        "\n",
        "`Smoking` : If the patient smokes actively or ever did in past.\n",
        "\n",
        "`Time` : It is the time of the patient's follow-up visit for the disease in months.\n",
        "\n",
        "`Death Event` : If the patient deceased during the follow-up period."
      ],
      "metadata": {
        "id": "Z7nUSfSFaQD7"
      }
    },
    {
      "cell_type": "markdown",
      "source": [
        "# **<span style=\"color:#3B7CE7\">Importing Libraries</span>**"
      ],
      "metadata": {
        "id": "aPNewnwwaQD7"
      }
    },
    {
      "cell_type": "code",
      "source": [
        "import pandas as pd\n",
        "import numpy as np\n",
        "import seaborn as sns\n",
        "from colorama import Fore, Back, Style\n",
        "import matplotlib.pyplot as plt\n",
        "import plotly.express as px\n",
        "import plotly.graph_objs as go\n",
        "from sklearn.preprocessing import MinMaxScaler\n",
        "import warnings\n",
        "warnings.filterwarnings(\"ignore\")\n",
        "\n",
        "from sklearn.model_selection import train_test_split\n",
        "from sklearn.metrics import confusion_matrix, accuracy_score\n",
        "\n",
        "import xgboost\n",
        "import lightgbm\n",
        "from sklearn.svm import SVC\n",
        "from sklearn.ensemble import GradientBoostingClassifier\n",
        "from sklearn.ensemble import RandomForestClassifier\n",
        "from sklearn.tree import DecisionTreeClassifier\n",
        "from sklearn.neighbors import KNeighborsClassifier\n",
        "from sklearn.linear_model import LogisticRegression\n",
        "\n",
        "from sklearn import preprocessing\n",
        "from sklearn.preprocessing import StandardScaler\n",
        "from sklearn.model_selection import train_test_split\n",
        "import seaborn as sns\n",
        "from keras.layers import Dense, BatchNormalization, Dropout, LSTM\n",
        "from keras.models import Sequential\n",
        "from keras.utils import to_categorical\n",
        "from keras import callbacks\n",
        "from sklearn.metrics import precision_score, recall_score, confusion_matrix, classification_report, accuracy_score, f1_score"
      ],
      "metadata": {
        "execution": {
          "iopub.status.busy": "2024-01-13T08:35:18.932426Z",
          "iopub.execute_input": "2024-01-13T08:35:18.933297Z",
          "iopub.status.idle": "2024-01-13T08:35:38.13605Z",
          "shell.execute_reply.started": "2024-01-13T08:35:18.933258Z",
          "shell.execute_reply": "2024-01-13T08:35:38.134936Z"
        },
        "trusted": true,
        "id": "swFuWJO5aQD8"
      },
      "execution_count": null,
      "outputs": []
    },
    {
      "cell_type": "markdown",
      "source": [
        "# **<span style=\"color:#3B7CE7\"> Exploring Data </span>**"
      ],
      "metadata": {
        "id": "7w-M5khtaQD8"
      }
    },
    {
      "cell_type": "code",
      "source": [
        "#importing data\n",
        "\n",
        "df= pd.read_csv(\"/kaggle/input/heart-failure-clinical-data/heart_failure_clinical_records_dataset.csv\")"
      ],
      "metadata": {
        "execution": {
          "iopub.status.busy": "2024-01-13T08:35:38.138166Z",
          "iopub.execute_input": "2024-01-13T08:35:38.13913Z",
          "iopub.status.idle": "2024-01-13T08:35:38.162279Z",
          "shell.execute_reply.started": "2024-01-13T08:35:38.139093Z",
          "shell.execute_reply": "2024-01-13T08:35:38.1613Z"
        },
        "trusted": true,
        "id": "yETPRgckaQD8"
      },
      "execution_count": null,
      "outputs": []
    },
    {
      "cell_type": "code",
      "source": [
        "df.head()"
      ],
      "metadata": {
        "execution": {
          "iopub.status.busy": "2024-01-13T08:35:38.163791Z",
          "iopub.execute_input": "2024-01-13T08:35:38.164809Z",
          "iopub.status.idle": "2024-01-13T08:35:38.204193Z",
          "shell.execute_reply.started": "2024-01-13T08:35:38.164765Z",
          "shell.execute_reply": "2024-01-13T08:35:38.202897Z"
        },
        "trusted": true,
        "id": "_fdJsVY2aQD8"
      },
      "execution_count": null,
      "outputs": []
    },
    {
      "cell_type": "code",
      "source": [
        "df.info()"
      ],
      "metadata": {
        "execution": {
          "iopub.status.busy": "2024-01-13T08:35:38.206778Z",
          "iopub.execute_input": "2024-01-13T08:35:38.207154Z",
          "iopub.status.idle": "2024-01-13T08:35:38.235756Z",
          "shell.execute_reply.started": "2024-01-13T08:35:38.20712Z",
          "shell.execute_reply": "2024-01-13T08:35:38.234536Z"
        },
        "trusted": true,
        "id": "uAwZbV2daQD9"
      },
      "execution_count": null,
      "outputs": []
    },
    {
      "cell_type": "markdown",
      "source": [
        "# **<span style=\"color:#3B7CE7\"> Data Analysis </span>**"
      ],
      "metadata": {
        "id": "f0If6z4oaQD9"
      }
    },
    {
      "cell_type": "markdown",
      "source": [
        "# Is there any relation between age and death event?"
      ],
      "metadata": {
        "id": "K57dVHbGaQD9"
      }
    },
    {
      "cell_type": "code",
      "source": [
        "fig = px.box(df, x='DEATH_EVENT', y='age', points=\"all\")\n",
        "fig.update_layout(\n",
        "    title_text=\" Age and Death event relation : death = 1 survive =0\")\n",
        "fig.show()"
      ],
      "metadata": {
        "execution": {
          "iopub.status.busy": "2024-01-13T08:35:38.237395Z",
          "iopub.execute_input": "2024-01-13T08:35:38.237937Z",
          "iopub.status.idle": "2024-01-13T08:35:40.148829Z",
          "shell.execute_reply.started": "2024-01-13T08:35:38.237891Z",
          "shell.execute_reply": "2024-01-13T08:35:40.147699Z"
        },
        "trusted": true,
        "id": "i9UAjdm-aQD9"
      },
      "execution_count": null,
      "outputs": []
    },
    {
      "cell_type": "markdown",
      "source": [
        "* survived people age spread is high between 50 - 65\n",
        "* dead people age spread is high between 55 - 75\n",
        "* There is not much difference thus we can say age is not the only factor for heart failure"
      ],
      "metadata": {
        "id": "bKQUBJYhaQD9"
      }
    },
    {
      "cell_type": "markdown",
      "source": [
        "# Is there any relation between gender and death event?"
      ],
      "metadata": {
        "id": "yLJJYZ_8aQD9"
      }
    },
    {
      "cell_type": "code",
      "source": [
        "fig = px.violin(df, y=\"age\", x=\"sex\", box=True, points=\"all\", hover_data=df.columns)\n",
        "fig.update_layout(title_text=\"Analysis in Age and Gender on Survival Status\")\n",
        "fig.show()"
      ],
      "metadata": {
        "execution": {
          "iopub.status.busy": "2024-01-13T08:35:40.150301Z",
          "iopub.execute_input": "2024-01-13T08:35:40.150693Z",
          "iopub.status.idle": "2024-01-13T08:35:40.277918Z",
          "shell.execute_reply.started": "2024-01-13T08:35:40.150661Z",
          "shell.execute_reply": "2024-01-13T08:35:40.276774Z"
        },
        "trusted": true,
        "id": "iBUOppYaaQD9"
      },
      "execution_count": null,
      "outputs": []
    },
    {
      "cell_type": "markdown",
      "source": [
        "* The Survival is high for both male between 50 to 70 and female's age between 50 to 65 respectively\n",
        "\n",
        "* We can conclude that gender does not have much effect on heart failure"
      ],
      "metadata": {
        "id": "ulYldGS_aQD-"
      }
    },
    {
      "cell_type": "markdown",
      "source": [
        "# Diabetes and Survival"
      ],
      "metadata": {
        "id": "zRcZ3qCZaQD-"
      }
    },
    {
      "cell_type": "code",
      "source": [
        "diabetes_yes = df[df['diabetes']==1]\n",
        "diabetes_no = df[df['diabetes']==0]\n",
        "\n",
        "diabetes_yes_survive = diabetes_yes[df[\"DEATH_EVENT\"]==0]\n",
        "diabetes_yes_not_survive = diabetes_yes[df[\"DEATH_EVENT\"]==1]\n",
        "diabetes_no_survive = diabetes_no[df[\"DEATH_EVENT\"]==0]\n",
        "diabetes__no_not_survive = diabetes_no[df[\"DEATH_EVENT\"]==1]\n",
        "\n",
        "labels = ['Diabetes Yes - Survived','Diabetes Yes - Not Survived', 'Diabetes NO - Survived', 'Diabetes NO - Not Survived']\n",
        "values = [len(diabetes_yes[df[\"DEATH_EVENT\"]==0]),len(df[df[\"DEATH_EVENT\"]==1]),\n",
        "         len(diabetes_no[df[\"DEATH_EVENT\"]==0]),len(diabetes_no[df[\"DEATH_EVENT\"]==1])]\n",
        "fig = go.Figure(data=[go.Pie(labels=labels, values=values, hole=.4)])\n",
        "fig.update_layout(\n",
        "    title_text=\"Analysis on Survival - Diabetes\")\n",
        "fig.show()"
      ],
      "metadata": {
        "execution": {
          "iopub.status.busy": "2024-01-13T08:35:40.27992Z",
          "iopub.execute_input": "2024-01-13T08:35:40.280379Z",
          "iopub.status.idle": "2024-01-13T08:35:40.316352Z",
          "shell.execute_reply.started": "2024-01-13T08:35:40.280336Z",
          "shell.execute_reply": "2024-01-13T08:35:40.315074Z"
        },
        "trusted": true,
        "id": "-o55XZj3aQD-"
      },
      "execution_count": null,
      "outputs": []
    },
    {
      "cell_type": "markdown",
      "source": [
        "* non diabetes patient has most chances of survival\n",
        "* diabetes patient are more prone to death (27%)"
      ],
      "metadata": {
        "id": "SZsUuiPjaQD-"
      }
    },
    {
      "cell_type": "markdown",
      "source": [
        "# Anaemia and Survival"
      ],
      "metadata": {
        "id": "0v9sm-yWaQD-"
      }
    },
    {
      "cell_type": "code",
      "source": [
        "anaemia_yes = df[df['anaemia']==1]\n",
        "anaemia_no = df[df['anaemia']==0]\n",
        "\n",
        "anaemia_yes_survival = anaemia_yes[df[\"DEATH_EVENT\"]==0]\n",
        "anaemia_yes_not_survival = anaemia_yes[df[\"DEATH_EVENT\"]==1]\n",
        "anaemia_no_survival = anaemia_no[df[\"DEATH_EVENT\"]==0]\n",
        "anaemia_no_not_survival = anaemia_no[df[\"DEATH_EVENT\"]==1]\n",
        "\n",
        "labels = ['Anaemia Yes - Survived','Anaemia Yes - Not Survived', 'Anaemia No - Survived', 'Anaemia NO - Not Survived']\n",
        "values = [len(anaemia_yes[df[\"DEATH_EVENT\"]==0]),len(anaemia_yes[df[\"DEATH_EVENT\"]==1]),\n",
        "         len(anaemia_no[df[\"DEATH_EVENT\"]==0]),len(anaemia_no[df[\"DEATH_EVENT\"]==1])]\n",
        "fig = go.Figure(data=[go.Pie(labels=labels, values=values, hole=.4)])\n",
        "fig.update_layout(\n",
        "    title_text=\"Analysis on Survival - Anaemia\")\n",
        "fig.show()"
      ],
      "metadata": {
        "execution": {
          "iopub.status.busy": "2024-01-13T08:35:40.317808Z",
          "iopub.execute_input": "2024-01-13T08:35:40.318152Z",
          "iopub.status.idle": "2024-01-13T08:35:40.343812Z",
          "shell.execute_reply.started": "2024-01-13T08:35:40.318123Z",
          "shell.execute_reply": "2024-01-13T08:35:40.342579Z"
        },
        "trusted": true,
        "id": "jKaOZ7jEaQD-"
      },
      "execution_count": null,
      "outputs": []
    },
    {
      "cell_type": "markdown",
      "source": [
        "* Person not suffering from anaemia has more chances of survival\n",
        "* person suffering from anaemia and still survived are 27.8%\n",
        "* thus we can say anaemia does not play major role in heart failure"
      ],
      "metadata": {
        "id": "OfZkuPpZaQD-"
      }
    },
    {
      "cell_type": "markdown",
      "source": [
        "# High blood pressure and survival"
      ],
      "metadata": {
        "id": "SIKZ9rc9aQD_"
      }
    },
    {
      "cell_type": "code",
      "source": [
        "hbp_yes = df[df['high_blood_pressure']==1]\n",
        "hbp_no = df[df['high_blood_pressure']==0]\n",
        "\n",
        "bp_yes_survive = hbp_yes[df[\"DEATH_EVENT\"]==0]\n",
        "hbp_yes_not_survive = hbp_yes[df[\"DEATH_EVENT\"]==1]\n",
        "hbp_no_survive = hbp_no[df[\"DEATH_EVENT\"]==0]\n",
        "hbp_no_not_survive = hbp_no[df[\"DEATH_EVENT\"]==1]\n",
        "\n",
        "labels = ['HBP Yes - Survived','HBP Yes - Not Survived', 'HBP No - Survived', 'HBP NO - Not Survived']\n",
        "values = [len(hbp_yes[df[\"DEATH_EVENT\"]==0]),len(hbp_yes[df[\"DEATH_EVENT\"]==1]),\n",
        "         len(hbp_no[df[\"DEATH_EVENT\"]==0]),len(hbp_no[df[\"DEATH_EVENT\"]==1])]\n",
        "fig = go.Figure(data=[go.Pie(labels=labels, values=values, hole=.4)])\n",
        "fig.update_layout(\n",
        "    title_text=\"Analysis on Survival - HBP(high blood pressure)\")\n",
        "fig.show()\n",
        "\n"
      ],
      "metadata": {
        "execution": {
          "iopub.status.busy": "2024-01-13T08:35:40.34554Z",
          "iopub.execute_input": "2024-01-13T08:35:40.349126Z",
          "iopub.status.idle": "2024-01-13T08:35:40.375627Z",
          "shell.execute_reply.started": "2024-01-13T08:35:40.349082Z",
          "shell.execute_reply": "2024-01-13T08:35:40.374242Z"
        },
        "trusted": true,
        "id": "7UZGC9iEaQD_"
      },
      "execution_count": null,
      "outputs": []
    },
    {
      "cell_type": "markdown",
      "source": [
        "* High BP patients those not survived accounts only 13%"
      ],
      "metadata": {
        "id": "yCnJXvAiaQD_"
      }
    },
    {
      "cell_type": "markdown",
      "source": [
        "# Smoking and Survival"
      ],
      "metadata": {
        "id": "LJ-BRrHRaQD_"
      }
    },
    {
      "cell_type": "code",
      "source": [
        "smoking_yes = df[df['smoking']==1]\n",
        "smoking_no = df[df['smoking']==0]\n",
        "\n",
        "smoking_yes_survival = smoking_yes[df[\"DEATH_EVENT\"]==0]\n",
        "smoking_yes_not_survival = smoking_yes[df[\"DEATH_EVENT\"]==1]\n",
        "smoking_no_survival = smoking_no[df[\"DEATH_EVENT\"]==0]\n",
        "smoking_no_not_survival = smoking_no[df[\"DEATH_EVENT\"]==1]\n",
        "\n",
        "labels = ['Smoking Yes - Survived','Smoking Yes - Not Survived', 'Smoking No - Survived', 'Smoking NO- Not Survived']\n",
        "values = [len(smoking_yes[df[\"DEATH_EVENT\"]==0]),len(smoking_yes[df[\"DEATH_EVENT\"]==1]),\n",
        "         len(smoking_no[df[\"DEATH_EVENT\"]==0]),len(smoking_no[df[\"DEATH_EVENT\"]==1])]\n",
        "fig = go.Figure(data=[go.Pie(labels=labels, values=values, hole=.4)])\n",
        "fig.update_layout(\n",
        "    title_text=\"Analysis on Survival - Smoking\")\n",
        "fig.show()"
      ],
      "metadata": {
        "execution": {
          "iopub.status.busy": "2024-01-13T08:35:40.379867Z",
          "iopub.execute_input": "2024-01-13T08:35:40.380216Z",
          "iopub.status.idle": "2024-01-13T08:35:40.406447Z",
          "shell.execute_reply.started": "2024-01-13T08:35:40.380187Z",
          "shell.execute_reply": "2024-01-13T08:35:40.405115Z"
        },
        "trusted": true,
        "id": "2p6z8RkUaQD_"
      },
      "execution_count": null,
      "outputs": []
    },
    {
      "cell_type": "markdown",
      "source": [
        "# Checking relation between other non-binary features and death event"
      ],
      "metadata": {
        "id": "VT8YBCmxaQD_"
      }
    },
    {
      "cell_type": "code",
      "source": [
        "## Boxen and swarm plot of some non binary features.\n",
        "\n",
        "feature = [\"age\",\"creatinine_phosphokinase\",\"ejection_fraction\",\"platelets\",\"serum_creatinine\",\"serum_sodium\", \"time\"]\n",
        "for i in feature:\n",
        "    plt.figure(figsize=(8,8))\n",
        "    sns.swarmplot(x=df[\"DEATH_EVENT\"], y=df[i], alpha=0.5)\n",
        "    sns.boxenplot(x=df[\"DEATH_EVENT\"], y=df[i], palette=\"coolwarm\")\n",
        "    plt.show()"
      ],
      "metadata": {
        "execution": {
          "iopub.status.busy": "2024-01-13T08:35:40.408398Z",
          "iopub.execute_input": "2024-01-13T08:35:40.409141Z",
          "iopub.status.idle": "2024-01-13T08:35:49.09751Z",
          "shell.execute_reply.started": "2024-01-13T08:35:40.409069Z",
          "shell.execute_reply": "2024-01-13T08:35:49.096316Z"
        },
        "trusted": true,
        "id": "j88UBqc7aQD_"
      },
      "execution_count": null,
      "outputs": []
    },
    {
      "cell_type": "markdown",
      "source": [
        "* By looking at these graphs we can see major differences on factors like time, ejection fraction and serum creatinine. so we can use these features in our model building process"
      ],
      "metadata": {
        "id": "oM-ZbhcBaQEA"
      }
    },
    {
      "cell_type": "markdown",
      "source": [
        "# **<span style=\"color:#3B7CE7\"> Building Models </span>**"
      ],
      "metadata": {
        "id": "u311KJNwaQEA"
      }
    },
    {
      "cell_type": "code",
      "source": [
        "#preprocessing and spliting data\n",
        "\n",
        "Features = ['time','ejection_fraction','serum_creatinine']\n",
        "x = df[Features]\n",
        "y = df[\"DEATH_EVENT\"]\n",
        "x_train,x_test,y_train,y_test = train_test_split(x,y, test_size=0.2, random_state=2)\n",
        "\n",
        "accuracy_list = []"
      ],
      "metadata": {
        "execution": {
          "iopub.status.busy": "2024-01-13T08:35:49.099098Z",
          "iopub.execute_input": "2024-01-13T08:35:49.099883Z",
          "iopub.status.idle": "2024-01-13T08:35:49.110626Z",
          "shell.execute_reply.started": "2024-01-13T08:35:49.099838Z",
          "shell.execute_reply": "2024-01-13T08:35:49.109643Z"
        },
        "trusted": true,
        "id": "ZReuNOYpaQEA"
      },
      "execution_count": null,
      "outputs": []
    },
    {
      "cell_type": "markdown",
      "source": [
        "# logistic regression"
      ],
      "metadata": {
        "id": "uwwBAVkIaQEA"
      }
    },
    {
      "cell_type": "code",
      "source": [
        "# logistic regression\n",
        "\n",
        "log_reg = LogisticRegression()\n",
        "log_reg.fit(x_train, y_train)\n",
        "log_reg_pred = log_reg.predict(x_test)\n",
        "log_reg_acc = accuracy_score(y_test, log_reg_pred)\n",
        "accuracy_list.append(100*log_reg_acc)"
      ],
      "metadata": {
        "execution": {
          "iopub.status.busy": "2024-01-13T08:35:49.112058Z",
          "iopub.execute_input": "2024-01-13T08:35:49.112998Z",
          "iopub.status.idle": "2024-01-13T08:35:49.144971Z",
          "shell.execute_reply.started": "2024-01-13T08:35:49.112954Z",
          "shell.execute_reply": "2024-01-13T08:35:49.143904Z"
        },
        "trusted": true,
        "id": "KPfxBxMyaQEA"
      },
      "execution_count": null,
      "outputs": []
    },
    {
      "cell_type": "code",
      "source": [
        "print(Fore.GREEN + \"Accuracy of Logistic Regression is : \", \"{:.2f}%\".format(100* log_reg_acc))"
      ],
      "metadata": {
        "execution": {
          "iopub.status.busy": "2024-01-13T08:35:49.146643Z",
          "iopub.execute_input": "2024-01-13T08:35:49.147215Z",
          "iopub.status.idle": "2024-01-13T08:35:49.153978Z",
          "shell.execute_reply.started": "2024-01-13T08:35:49.147155Z",
          "shell.execute_reply": "2024-01-13T08:35:49.152653Z"
        },
        "trusted": true,
        "id": "yGppNMaHaQEA"
      },
      "execution_count": null,
      "outputs": []
    },
    {
      "cell_type": "markdown",
      "source": [
        "# Support Vector Classifier"
      ],
      "metadata": {
        "id": "6_zR9igyaQEA"
      }
    },
    {
      "cell_type": "code",
      "source": [
        "# svc\n",
        "\n",
        "sv_clf = SVC()\n",
        "sv_clf.fit(x_train, y_train)\n",
        "sv_clf_pred = sv_clf.predict(x_test)\n",
        "sv_clf_acc = accuracy_score(y_test, sv_clf_pred)\n",
        "accuracy_list.append(100* sv_clf_acc)"
      ],
      "metadata": {
        "execution": {
          "iopub.status.busy": "2024-01-13T08:35:49.155299Z",
          "iopub.execute_input": "2024-01-13T08:35:49.155689Z",
          "iopub.status.idle": "2024-01-13T08:35:49.17506Z",
          "shell.execute_reply.started": "2024-01-13T08:35:49.155659Z",
          "shell.execute_reply": "2024-01-13T08:35:49.173732Z"
        },
        "trusted": true,
        "id": "7Eic_lSXaQEA"
      },
      "execution_count": null,
      "outputs": []
    },
    {
      "cell_type": "code",
      "source": [
        "print(Fore.GREEN + \"Accuracy of SVC is : \", \"{:.2f}%\".format(100* sv_clf_acc))"
      ],
      "metadata": {
        "execution": {
          "iopub.status.busy": "2024-01-13T08:35:49.176287Z",
          "iopub.execute_input": "2024-01-13T08:35:49.176684Z",
          "iopub.status.idle": "2024-01-13T08:35:49.183245Z",
          "shell.execute_reply.started": "2024-01-13T08:35:49.176653Z",
          "shell.execute_reply": "2024-01-13T08:35:49.182089Z"
        },
        "trusted": true,
        "id": "b6OPdWDaaQEE"
      },
      "execution_count": null,
      "outputs": []
    },
    {
      "cell_type": "markdown",
      "source": [
        "# K Neighbors Classifier"
      ],
      "metadata": {
        "id": "BUaLSEmWaQEE"
      }
    },
    {
      "cell_type": "code",
      "source": [
        "# K Neighbors Classifier\n",
        "\n",
        "kn_clf = KNeighborsClassifier(n_neighbors=6)\n",
        "kn_clf.fit(x_train, y_train)\n",
        "kn_pred = kn_clf.predict(x_test)\n",
        "kn_acc = accuracy_score(y_test, kn_pred)\n",
        "accuracy_list.append(100*kn_acc)"
      ],
      "metadata": {
        "execution": {
          "iopub.status.busy": "2024-01-13T08:35:49.184913Z",
          "iopub.execute_input": "2024-01-13T08:35:49.185388Z",
          "iopub.status.idle": "2024-01-13T08:35:49.206995Z",
          "shell.execute_reply.started": "2024-01-13T08:35:49.185346Z",
          "shell.execute_reply": "2024-01-13T08:35:49.205886Z"
        },
        "trusted": true,
        "id": "ueCvclJEaQEE"
      },
      "execution_count": null,
      "outputs": []
    },
    {
      "cell_type": "code",
      "source": [
        "print(Fore.GREEN + \"Accuracy of K Neighbors Classifier is : \", \"{:.2f}%\".format(100* kn_acc))"
      ],
      "metadata": {
        "execution": {
          "iopub.status.busy": "2024-01-13T08:35:49.208184Z",
          "iopub.execute_input": "2024-01-13T08:35:49.208485Z",
          "iopub.status.idle": "2024-01-13T08:35:49.216022Z",
          "shell.execute_reply.started": "2024-01-13T08:35:49.208459Z",
          "shell.execute_reply": "2024-01-13T08:35:49.214835Z"
        },
        "trusted": true,
        "id": "Drpg5LL3aQEE"
      },
      "execution_count": null,
      "outputs": []
    },
    {
      "cell_type": "markdown",
      "source": [
        "# Decision Tree Classifier"
      ],
      "metadata": {
        "id": "Qv6chZ3WaQEF"
      }
    },
    {
      "cell_type": "code",
      "source": [
        "# Decision Tree Classifier\n",
        "\n",
        "dt_clf = DecisionTreeClassifier(max_leaf_nodes=3, random_state=0, criterion='entropy')\n",
        "dt_clf.fit(x_train, y_train)\n",
        "dt_pred = dt_clf.predict(x_test)\n",
        "dt_acc = accuracy_score(y_test, dt_pred)\n",
        "accuracy_list.append(100*dt_acc)"
      ],
      "metadata": {
        "execution": {
          "iopub.status.busy": "2024-01-13T08:35:49.217056Z",
          "iopub.execute_input": "2024-01-13T08:35:49.217361Z",
          "iopub.status.idle": "2024-01-13T08:35:49.231542Z",
          "shell.execute_reply.started": "2024-01-13T08:35:49.217334Z",
          "shell.execute_reply": "2024-01-13T08:35:49.23029Z"
        },
        "trusted": true,
        "id": "Ef3_4cfraQEF"
      },
      "execution_count": null,
      "outputs": []
    },
    {
      "cell_type": "code",
      "source": [
        "print(Fore.GREEN + \"Accuracy of Decision Tree Classifier is : \", \"{:.2f}%\".format(100* dt_acc))"
      ],
      "metadata": {
        "execution": {
          "iopub.status.busy": "2024-01-13T08:35:49.23273Z",
          "iopub.execute_input": "2024-01-13T08:35:49.23304Z",
          "iopub.status.idle": "2024-01-13T08:35:49.241186Z",
          "shell.execute_reply.started": "2024-01-13T08:35:49.233012Z",
          "shell.execute_reply": "2024-01-13T08:35:49.240437Z"
        },
        "trusted": true,
        "id": "Jk0JU5CoaQEF"
      },
      "execution_count": null,
      "outputs": []
    },
    {
      "cell_type": "markdown",
      "source": [
        "# Random Forest Classifier"
      ],
      "metadata": {
        "id": "Nf0vqSRqaQEF"
      }
    },
    {
      "cell_type": "code",
      "source": [
        "# RandomForestClassifier\n",
        "\n",
        "r_clf = RandomForestClassifier(max_features=0.5, max_depth=15, random_state=1)\n",
        "r_clf.fit(x_train, y_train)\n",
        "r_pred = r_clf.predict(x_test)\n",
        "r_acc = accuracy_score(y_test, r_pred)\n",
        "accuracy_list.append(100*r_acc)"
      ],
      "metadata": {
        "execution": {
          "iopub.status.busy": "2024-01-13T08:35:49.242411Z",
          "iopub.execute_input": "2024-01-13T08:35:49.242837Z",
          "iopub.status.idle": "2024-01-13T08:35:49.488072Z",
          "shell.execute_reply.started": "2024-01-13T08:35:49.242806Z",
          "shell.execute_reply": "2024-01-13T08:35:49.487155Z"
        },
        "trusted": true,
        "id": "fyLREpTgaQEF"
      },
      "execution_count": null,
      "outputs": []
    },
    {
      "cell_type": "code",
      "source": [
        "print(Fore.GREEN + \"Accuracy of Random Forest Classifier is : \", \"{:.2f}%\".format(100* r_acc))"
      ],
      "metadata": {
        "execution": {
          "iopub.status.busy": "2024-01-13T08:35:49.48931Z",
          "iopub.execute_input": "2024-01-13T08:35:49.48964Z",
          "iopub.status.idle": "2024-01-13T08:35:49.496713Z",
          "shell.execute_reply.started": "2024-01-13T08:35:49.489602Z",
          "shell.execute_reply": "2024-01-13T08:35:49.495516Z"
        },
        "trusted": true,
        "id": "Gq4xQYJwaQEF"
      },
      "execution_count": null,
      "outputs": []
    },
    {
      "cell_type": "markdown",
      "source": [
        "# Gradient Boosting Classifier"
      ],
      "metadata": {
        "id": "OTGaivuwaQEF"
      }
    },
    {
      "cell_type": "code",
      "source": [
        "# GradientBoostingClassifier\n",
        "\n",
        "gradientboost_clf = GradientBoostingClassifier(max_depth=2, random_state=1)\n",
        "gradientboost_clf.fit(x_train,y_train)\n",
        "gradientboost_pred = gradientboost_clf.predict(x_test)\n",
        "gradientboost_acc = accuracy_score(y_test, gradientboost_pred)\n",
        "accuracy_list.append(100*gradientboost_acc)"
      ],
      "metadata": {
        "execution": {
          "iopub.status.busy": "2024-01-13T08:35:49.497881Z",
          "iopub.execute_input": "2024-01-13T08:35:49.498187Z",
          "iopub.status.idle": "2024-01-13T08:35:49.604996Z",
          "shell.execute_reply.started": "2024-01-13T08:35:49.498161Z",
          "shell.execute_reply": "2024-01-13T08:35:49.603913Z"
        },
        "trusted": true,
        "id": "5EqL_s4UaQEF"
      },
      "execution_count": null,
      "outputs": []
    },
    {
      "cell_type": "code",
      "source": [
        "print(Fore.GREEN + \"Accuracy of Gradient Boosting is : \", \"{:.2f}%\".format(100* gradientboost_acc))"
      ],
      "metadata": {
        "execution": {
          "iopub.status.busy": "2024-01-13T08:35:49.606837Z",
          "iopub.execute_input": "2024-01-13T08:35:49.607279Z",
          "iopub.status.idle": "2024-01-13T08:35:49.613456Z",
          "shell.execute_reply.started": "2024-01-13T08:35:49.607239Z",
          "shell.execute_reply": "2024-01-13T08:35:49.612277Z"
        },
        "trusted": true,
        "id": "QdQuTKsbaQEG"
      },
      "execution_count": null,
      "outputs": []
    },
    {
      "cell_type": "markdown",
      "source": [
        "# xgbrf classifier"
      ],
      "metadata": {
        "id": "TijV1L9taQEG"
      }
    },
    {
      "cell_type": "code",
      "source": [
        "# xgbrf classifier\n",
        "\n",
        "xgb_clf = xgboost.XGBRFClassifier(max_depth=3, random_state=1)\n",
        "xgb_clf.fit(x_train,y_train)\n",
        "xgb_pred = xgb_clf.predict(x_test)\n",
        "xgb_acc = accuracy_score(y_test, xgb_pred)\n",
        "accuracy_list.append(100*xgb_acc)"
      ],
      "metadata": {
        "execution": {
          "iopub.status.busy": "2024-01-13T08:35:49.615193Z",
          "iopub.execute_input": "2024-01-13T08:35:49.615708Z",
          "iopub.status.idle": "2024-01-13T08:35:49.698542Z",
          "shell.execute_reply.started": "2024-01-13T08:35:49.615667Z",
          "shell.execute_reply": "2024-01-13T08:35:49.69765Z"
        },
        "trusted": true,
        "id": "HqHhOsP0aQEG"
      },
      "execution_count": null,
      "outputs": []
    },
    {
      "cell_type": "code",
      "source": [
        "print(Fore.GREEN + \"Accuracy of XGBRFClassifier is : \", \"{:.2f}%\".format(100* xgb_acc))"
      ],
      "metadata": {
        "execution": {
          "iopub.status.busy": "2024-01-13T08:35:49.703574Z",
          "iopub.execute_input": "2024-01-13T08:35:49.707191Z",
          "iopub.status.idle": "2024-01-13T08:35:49.715263Z",
          "shell.execute_reply.started": "2024-01-13T08:35:49.707143Z",
          "shell.execute_reply": "2024-01-13T08:35:49.714119Z"
        },
        "trusted": true,
        "id": "adAHDoERaQEG"
      },
      "execution_count": null,
      "outputs": []
    },
    {
      "cell_type": "markdown",
      "source": [
        "# Artificial Neural Network"
      ],
      "metadata": {
        "id": "xogBpAa7aQEG"
      }
    },
    {
      "cell_type": "code",
      "source": [
        "X=df.drop([\"DEATH_EVENT\"],axis=1)\n",
        "y=df[\"DEATH_EVENT\"]"
      ],
      "metadata": {
        "execution": {
          "iopub.status.busy": "2024-01-13T08:35:49.717052Z",
          "iopub.execute_input": "2024-01-13T08:35:49.718036Z",
          "iopub.status.idle": "2024-01-13T08:35:49.726139Z",
          "shell.execute_reply.started": "2024-01-13T08:35:49.717993Z",
          "shell.execute_reply": "2024-01-13T08:35:49.725006Z"
        },
        "trusted": true,
        "id": "UMev__EgaQEG"
      },
      "execution_count": null,
      "outputs": []
    },
    {
      "cell_type": "code",
      "source": [
        "#Set up a standard scaler for the features\n",
        "col_names = list(X.columns)\n",
        "s_scaler = preprocessing.StandardScaler()\n",
        "X_df= s_scaler.fit_transform(X)\n",
        "X_df = pd.DataFrame(X_df, columns=col_names)"
      ],
      "metadata": {
        "execution": {
          "iopub.status.busy": "2024-01-13T08:35:49.733533Z",
          "iopub.execute_input": "2024-01-13T08:35:49.734667Z",
          "iopub.status.idle": "2024-01-13T08:35:49.746322Z",
          "shell.execute_reply.started": "2024-01-13T08:35:49.734616Z",
          "shell.execute_reply": "2024-01-13T08:35:49.745238Z"
        },
        "trusted": true,
        "id": "FMMle9pbaQEG"
      },
      "execution_count": null,
      "outputs": []
    },
    {
      "cell_type": "code",
      "source": [
        "#spliting test and training sets\n",
        "X_train, X_test, y_train,y_test = train_test_split(X_df,y,test_size=0.25,random_state=7)"
      ],
      "metadata": {
        "execution": {
          "iopub.status.busy": "2024-01-13T08:35:49.747708Z",
          "iopub.execute_input": "2024-01-13T08:35:49.7481Z",
          "iopub.status.idle": "2024-01-13T08:35:49.756729Z",
          "shell.execute_reply.started": "2024-01-13T08:35:49.748068Z",
          "shell.execute_reply": "2024-01-13T08:35:49.755478Z"
        },
        "trusted": true,
        "id": "YUBhwtO1aQEG"
      },
      "execution_count": null,
      "outputs": []
    },
    {
      "cell_type": "code",
      "source": [
        "early_stopping = callbacks.EarlyStopping(\n",
        "    min_delta=0.001, # minimium amount of change to count as an improvement\n",
        "    patience=20, # how many epochs to wait before stopping\n",
        "    restore_best_weights=True)\n",
        "\n",
        "# Initialising the NN\n",
        "model = Sequential()\n",
        "\n",
        "# layers\n",
        "model.add(Dense(units = 16, kernel_initializer = 'uniform', activation = 'relu', input_dim = 12))\n",
        "model.add(Dense(units = 8, kernel_initializer = 'uniform', activation = 'relu'))\n",
        "model.add(Dropout(0.25))\n",
        "model.add(Dense(units = 4, kernel_initializer = 'uniform', activation = 'relu'))\n",
        "model.add(Dropout(0.5))\n",
        "model.add(Dense(units = 1, kernel_initializer = 'uniform', activation = 'sigmoid'))\n",
        "from keras.optimizers import SGD\n",
        "# Compiling the ANN\n",
        "model.compile(optimizer = 'adam', loss = 'binary_crossentropy', metrics = ['accuracy'])\n",
        "\n",
        "# Train the ANN\n",
        "history = model.fit(X_train, y_train, batch_size = 32, epochs = 50,callbacks=[early_stopping], validation_split=0.2)"
      ],
      "metadata": {
        "execution": {
          "iopub.status.busy": "2024-01-13T08:35:49.758642Z",
          "iopub.execute_input": "2024-01-13T08:35:49.759307Z",
          "iopub.status.idle": "2024-01-13T08:35:54.135272Z",
          "shell.execute_reply.started": "2024-01-13T08:35:49.759272Z",
          "shell.execute_reply": "2024-01-13T08:35:54.134267Z"
        },
        "trusted": true,
        "id": "Z37UWEw9aQEH"
      },
      "execution_count": null,
      "outputs": []
    },
    {
      "cell_type": "code",
      "source": [
        "val_accuracy = np.mean(history.history['val_accuracy'])\n",
        "print(\"\\n%s: %.2f%%\" % ('val_accuracy', val_accuracy*100))"
      ],
      "metadata": {
        "execution": {
          "iopub.status.busy": "2024-01-13T08:35:54.136731Z",
          "iopub.execute_input": "2024-01-13T08:35:54.137048Z",
          "iopub.status.idle": "2024-01-13T08:35:54.143772Z",
          "shell.execute_reply.started": "2024-01-13T08:35:54.13702Z",
          "shell.execute_reply": "2024-01-13T08:35:54.142624Z"
        },
        "trusted": true,
        "id": "KLTnY_M3aQEH"
      },
      "execution_count": null,
      "outputs": []
    },
    {
      "cell_type": "markdown",
      "source": [
        "<BR>\n",
        "    \n",
        "    \n",
        "<div style=\"text-align: center;\">\n",
        "   <span style=\"font-size: 4.5em; font-weight: bold; font-family: Arial;\">THANK YOU!</span>\n",
        "</div>\n",
        "\n",
        "<div style=\"text-align: center;\">\n",
        "    <span style=\"font-size: 5em;\">✔️</span>\n",
        "</div>\n",
        "\n",
        "<br>\n",
        "\n",
        "<div style=\"text-align: center;\">\n",
        "   <span style=\"font-size: 1.4em; font-weight: bold; font-family: Arial; max-width:1200px; display: inline-block;\">\n",
        "      If you liked this Notebook, please do upvote.\n",
        "\n",
        "If you have any suggestions or questions, feel free to comment!\n",
        "\n",
        "       Best Wishes!\n",
        "   </span>\n",
        "</div>\n",
        "\n",
        "<br>\n",
        "\n",
        "<br>\n",
        "\n",
        "<div style=\"text-align: center;\">\n",
        "   <span style=\"font-size: 1.2em; font-weight: bold;font-family: Arial;\">@atharvsabde</span>\n",
        "</div>"
      ],
      "metadata": {
        "id": "sxJj5oDOaQEH"
      }
    },
    {
      "cell_type": "code",
      "source": [],
      "metadata": {
        "id": "NbbmnPOIaQEH"
      },
      "execution_count": null,
      "outputs": []
    }
  ]
}