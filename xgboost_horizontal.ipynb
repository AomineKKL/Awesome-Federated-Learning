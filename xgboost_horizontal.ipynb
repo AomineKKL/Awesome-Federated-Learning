{
  "cells": [
    {
      "cell_type": "markdown",
      "metadata": {
        "id": "view-in-github",
        "colab_type": "text"
      },
      "source": [
        "<a href=\"https://colab.research.google.com/github/AomineKKL/Awesome-Federated-Learning/blob/master/xgboost_horizontal.ipynb\" target=\"_parent\"><img src=\"https://colab.research.google.com/assets/colab-badge.svg\" alt=\"Open In Colab\"/></a>"
      ]
    },
    {
      "cell_type": "markdown",
      "metadata": {
        "id": "HZH7NLUITBP0"
      },
      "source": [
        "## Initialization"
      ]
    },
    {
      "cell_type": "code",
      "execution_count": null,
      "metadata": {
        "colab": {
          "base_uri": "https://localhost:8080/"
        },
        "outputId": "4d6a52ff-626b-43ba-8ef3-877c306f33b8",
        "id": "vD947n12TBP4"
      },
      "outputs": [
        {
          "output_type": "stream",
          "name": "stdout",
          "text": [
            "/bin/bash: line 1: nvidia-smi: command not found\n",
            "Requirement already satisfied: matplotlib in /usr/local/lib/python3.10/dist-packages (3.7.1)\n",
            "Requirement already satisfied: scikit-learn in /usr/local/lib/python3.10/dist-packages (1.2.2)\n",
            "Requirement already satisfied: tqdm in /usr/local/lib/python3.10/dist-packages (4.66.1)\n",
            "Requirement already satisfied: torch in /usr/local/lib/python3.10/dist-packages (2.1.0+cu118)\n",
            "Collecting torchmetrics\n",
            "  Downloading torchmetrics-1.2.0-py3-none-any.whl (805 kB)\n",
            "\u001b[2K     \u001b[90m━━━━━━━━━━━━━━━━━━━━━━━━━━━━━━━━━━━━━━━━\u001b[0m \u001b[32m805.2/805.2 kB\u001b[0m \u001b[31m11.8 MB/s\u001b[0m eta \u001b[36m0:00:00\u001b[0m\n",
            "\u001b[?25hRequirement already satisfied: torchsummary in /usr/local/lib/python3.10/dist-packages (1.5.1)\n",
            "Requirement already satisfied: xgboost in /usr/local/lib/python3.10/dist-packages (2.0.1)\n",
            "Requirement already satisfied: contourpy>=1.0.1 in /usr/local/lib/python3.10/dist-packages (from matplotlib) (1.1.1)\n",
            "Requirement already satisfied: cycler>=0.10 in /usr/local/lib/python3.10/dist-packages (from matplotlib) (0.12.1)\n",
            "Requirement already satisfied: fonttools>=4.22.0 in /usr/local/lib/python3.10/dist-packages (from matplotlib) (4.43.1)\n",
            "Requirement already satisfied: kiwisolver>=1.0.1 in /usr/local/lib/python3.10/dist-packages (from matplotlib) (1.4.5)\n",
            "Requirement already satisfied: numpy>=1.20 in /usr/local/lib/python3.10/dist-packages (from matplotlib) (1.23.5)\n",
            "Requirement already satisfied: packaging>=20.0 in /usr/local/lib/python3.10/dist-packages (from matplotlib) (23.2)\n",
            "Requirement already satisfied: pillow>=6.2.0 in /usr/local/lib/python3.10/dist-packages (from matplotlib) (9.4.0)\n",
            "Requirement already satisfied: pyparsing>=2.3.1 in /usr/local/lib/python3.10/dist-packages (from matplotlib) (3.1.1)\n",
            "Requirement already satisfied: python-dateutil>=2.7 in /usr/local/lib/python3.10/dist-packages (from matplotlib) (2.8.2)\n",
            "Requirement already satisfied: scipy>=1.3.2 in /usr/local/lib/python3.10/dist-packages (from scikit-learn) (1.11.3)\n",
            "Requirement already satisfied: joblib>=1.1.1 in /usr/local/lib/python3.10/dist-packages (from scikit-learn) (1.3.2)\n",
            "Requirement already satisfied: threadpoolctl>=2.0.0 in /usr/local/lib/python3.10/dist-packages (from scikit-learn) (3.2.0)\n",
            "Requirement already satisfied: filelock in /usr/local/lib/python3.10/dist-packages (from torch) (3.12.4)\n",
            "Requirement already satisfied: typing-extensions in /usr/local/lib/python3.10/dist-packages (from torch) (4.5.0)\n",
            "Requirement already satisfied: sympy in /usr/local/lib/python3.10/dist-packages (from torch) (1.12)\n",
            "Requirement already satisfied: networkx in /usr/local/lib/python3.10/dist-packages (from torch) (3.2)\n",
            "Requirement already satisfied: jinja2 in /usr/local/lib/python3.10/dist-packages (from torch) (3.1.2)\n",
            "Requirement already satisfied: fsspec in /usr/local/lib/python3.10/dist-packages (from torch) (2023.6.0)\n",
            "Requirement already satisfied: triton==2.1.0 in /usr/local/lib/python3.10/dist-packages (from torch) (2.1.0)\n",
            "Collecting lightning-utilities>=0.8.0 (from torchmetrics)\n",
            "  Downloading lightning_utilities-0.9.0-py3-none-any.whl (23 kB)\n",
            "Requirement already satisfied: six>=1.5 in /usr/local/lib/python3.10/dist-packages (from python-dateutil>=2.7->matplotlib) (1.16.0)\n",
            "Requirement already satisfied: MarkupSafe>=2.0 in /usr/local/lib/python3.10/dist-packages (from jinja2->torch) (2.1.3)\n",
            "Requirement already satisfied: mpmath>=0.19 in /usr/local/lib/python3.10/dist-packages (from sympy->torch) (1.3.0)\n",
            "Installing collected packages: lightning-utilities, torchmetrics\n",
            "Successfully installed lightning-utilities-0.9.0 torchmetrics-1.2.0\n",
            "Collecting flwr-nightly[simulation]\n",
            "  Downloading flwr_nightly-1.6.0.dev20231026-py3-none-any.whl (205 kB)\n",
            "\u001b[2K     \u001b[90m━━━━━━━━━━━━━━━━━━━━━━━━━━━━━━━━━━━━━━━━\u001b[0m \u001b[32m205.6/205.6 kB\u001b[0m \u001b[31m4.4 MB/s\u001b[0m eta \u001b[36m0:00:00\u001b[0m\n",
            "\u001b[?25hRequirement already satisfied: cryptography<42.0.0,>=41.0.2 in /usr/local/lib/python3.10/dist-packages (from flwr-nightly[simulation]) (41.0.5)\n",
            "Requirement already satisfied: grpcio!=1.52.0,<2.0.0,>=1.48.2 in /usr/local/lib/python3.10/dist-packages (from flwr-nightly[simulation]) (1.59.0)\n",
            "Collecting iterators<0.0.3,>=0.0.2 (from flwr-nightly[simulation])\n",
            "  Downloading iterators-0.0.2-py3-none-any.whl (3.9 kB)\n",
            "Requirement already satisfied: numpy<2.0.0,>=1.21.0 in /usr/local/lib/python3.10/dist-packages (from flwr-nightly[simulation]) (1.23.5)\n",
            "Requirement already satisfied: protobuf<4.0.0,>=3.19.0 in /usr/local/lib/python3.10/dist-packages (from flwr-nightly[simulation]) (3.20.3)\n",
            "Collecting pycryptodome<4.0.0,>=3.18.0 (from flwr-nightly[simulation])\n",
            "  Downloading pycryptodome-3.19.0-cp35-abi3-manylinux_2_17_x86_64.manylinux2014_x86_64.whl (2.1 MB)\n",
            "\u001b[2K     \u001b[90m━━━━━━━━━━━━━━━━━━━━━━━━━━━━━━━━━━━━━━━━\u001b[0m \u001b[32m2.1/2.1 MB\u001b[0m \u001b[31m43.3 MB/s\u001b[0m eta \u001b[36m0:00:00\u001b[0m\n",
            "\u001b[?25hRequirement already satisfied: pydantic<2.0.0 in /usr/local/lib/python3.10/dist-packages (from flwr-nightly[simulation]) (1.10.13)\n",
            "Collecting ray==2.6.3 (from flwr-nightly[simulation])\n",
            "  Downloading ray-2.6.3-cp310-cp310-manylinux2014_x86_64.whl (56.9 MB)\n",
            "\u001b[2K     \u001b[90m━━━━━━━━━━━━━━━━━━━━━━━━━━━━━━━━━━━━━━━━\u001b[0m \u001b[32m56.9/56.9 MB\u001b[0m \u001b[31m9.4 MB/s\u001b[0m eta \u001b[36m0:00:00\u001b[0m\n",
            "\u001b[?25hRequirement already satisfied: click>=7.0 in /usr/local/lib/python3.10/dist-packages (from ray==2.6.3->flwr-nightly[simulation]) (8.1.7)\n",
            "Requirement already satisfied: filelock in /usr/local/lib/python3.10/dist-packages (from ray==2.6.3->flwr-nightly[simulation]) (3.12.4)\n",
            "Requirement already satisfied: jsonschema in /usr/local/lib/python3.10/dist-packages (from ray==2.6.3->flwr-nightly[simulation]) (4.19.1)\n",
            "Requirement already satisfied: msgpack<2.0.0,>=1.0.0 in /usr/local/lib/python3.10/dist-packages (from ray==2.6.3->flwr-nightly[simulation]) (1.0.7)\n",
            "Requirement already satisfied: packaging in /usr/local/lib/python3.10/dist-packages (from ray==2.6.3->flwr-nightly[simulation]) (23.2)\n",
            "Requirement already satisfied: pyyaml in /usr/local/lib/python3.10/dist-packages (from ray==2.6.3->flwr-nightly[simulation]) (6.0.1)\n",
            "Requirement already satisfied: aiosignal in /usr/local/lib/python3.10/dist-packages (from ray==2.6.3->flwr-nightly[simulation]) (1.3.1)\n",
            "Requirement already satisfied: frozenlist in /usr/local/lib/python3.10/dist-packages (from ray==2.6.3->flwr-nightly[simulation]) (1.4.0)\n",
            "Requirement already satisfied: requests in /usr/local/lib/python3.10/dist-packages (from ray==2.6.3->flwr-nightly[simulation]) (2.31.0)\n",
            "Requirement already satisfied: cffi>=1.12 in /usr/local/lib/python3.10/dist-packages (from cryptography<42.0.0,>=41.0.2->flwr-nightly[simulation]) (1.16.0)\n",
            "Requirement already satisfied: typing-extensions>=4.2.0 in /usr/local/lib/python3.10/dist-packages (from pydantic<2.0.0->flwr-nightly[simulation]) (4.5.0)\n",
            "Requirement already satisfied: pycparser in /usr/local/lib/python3.10/dist-packages (from cffi>=1.12->cryptography<42.0.0,>=41.0.2->flwr-nightly[simulation]) (2.21)\n",
            "Requirement already satisfied: attrs>=22.2.0 in /usr/local/lib/python3.10/dist-packages (from jsonschema->ray==2.6.3->flwr-nightly[simulation]) (23.1.0)\n",
            "Requirement already satisfied: jsonschema-specifications>=2023.03.6 in /usr/local/lib/python3.10/dist-packages (from jsonschema->ray==2.6.3->flwr-nightly[simulation]) (2023.7.1)\n",
            "Requirement already satisfied: referencing>=0.28.4 in /usr/local/lib/python3.10/dist-packages (from jsonschema->ray==2.6.3->flwr-nightly[simulation]) (0.30.2)\n",
            "Requirement already satisfied: rpds-py>=0.7.1 in /usr/local/lib/python3.10/dist-packages (from jsonschema->ray==2.6.3->flwr-nightly[simulation]) (0.10.6)\n",
            "Requirement already satisfied: charset-normalizer<4,>=2 in /usr/local/lib/python3.10/dist-packages (from requests->ray==2.6.3->flwr-nightly[simulation]) (3.3.1)\n",
            "Requirement already satisfied: idna<4,>=2.5 in /usr/local/lib/python3.10/dist-packages (from requests->ray==2.6.3->flwr-nightly[simulation]) (3.4)\n",
            "Requirement already satisfied: urllib3<3,>=1.21.1 in /usr/local/lib/python3.10/dist-packages (from requests->ray==2.6.3->flwr-nightly[simulation]) (2.0.7)\n",
            "Requirement already satisfied: certifi>=2017.4.17 in /usr/local/lib/python3.10/dist-packages (from requests->ray==2.6.3->flwr-nightly[simulation]) (2023.7.22)\n",
            "Installing collected packages: pycryptodome, iterators, flwr-nightly, ray\n",
            "Successfully installed flwr-nightly-1.6.0.dev20231026 iterators-0.0.2 pycryptodome-3.19.0 ray-2.6.3\n"
          ]
        }
      ],
      "source": [
        "import os\n",
        "import urllib.request\n",
        "import bz2\n",
        "import shutil\n",
        "\n",
        "CLASSIFICATION_PATH = os.path.join(\"dataset\", \"binary_classification\")\n",
        "REGRESSION_PATH = os.path.join(\"dataset\", \"regression\")\n",
        "\n",
        "if not os.path.exists(CLASSIFICATION_PATH):\n",
        "    os.makedirs(CLASSIFICATION_PATH)\n",
        "    urllib.request.urlretrieve(\n",
        "        \"https://www.csie.ntu.edu.tw/~cjlin/libsvmtools/datasets/binary/cod-rna\",\n",
        "        f\"{os.path.join(CLASSIFICATION_PATH, 'cod-rna')}\",\n",
        "    )\n",
        "    urllib.request.urlretrieve(\n",
        "        \"https://www.csie.ntu.edu.tw/~cjlin/libsvmtools/datasets/binary/cod-rna.t\",\n",
        "        f\"{os.path.join(CLASSIFICATION_PATH, 'cod-rna.t')}\",\n",
        "    )\n",
        "    urllib.request.urlretrieve(\n",
        "        \"https://www.csie.ntu.edu.tw/~cjlin/libsvmtools/datasets/binary/cod-rna.r\",\n",
        "        f\"{os.path.join(CLASSIFICATION_PATH, 'cod-rna.r')}\",\n",
        "    )\n",
        "    urllib.request.urlretrieve(\n",
        "        \"https://www.csie.ntu.edu.tw/~cjlin/libsvmtools/datasets/binary/ijcnn1.t.bz2\",\n",
        "        f\"{os.path.join(CLASSIFICATION_PATH, 'ijcnn1.t.bz2')}\",\n",
        "    )\n",
        "    urllib.request.urlretrieve(\n",
        "        \"https://www.csie.ntu.edu.tw/~cjlin/libsvmtools/datasets/binary/ijcnn1.tr.bz2\",\n",
        "        f\"{os.path.join(CLASSIFICATION_PATH, 'ijcnn1.tr.bz2')}\",\n",
        "    )\n",
        "    for filepath in os.listdir(CLASSIFICATION_PATH):\n",
        "        if filepath[-3:] == \"bz2\":\n",
        "            abs_filepath = os.path.join(CLASSIFICATION_PATH, filepath)\n",
        "            with bz2.BZ2File(abs_filepath) as fr, open(abs_filepath[:-4], \"wb\") as fw:\n",
        "                shutil.copyfileobj(fr, fw)\n",
        "\n",
        "if not os.path.exists(REGRESSION_PATH):\n",
        "    os.makedirs(REGRESSION_PATH)\n",
        "    urllib.request.urlretrieve(\n",
        "        \"https://www.csie.ntu.edu.tw/~cjlin/libsvmtools/datasets/regression/eunite2001\",\n",
        "        f\"{os.path.join(REGRESSION_PATH, 'eunite2001')}\",\n",
        "    )\n",
        "    urllib.request.urlretrieve(\n",
        "        \"https://www.csie.ntu.edu.tw/~cjlin/libsvmtools/datasets/regression/eunite2001.t\",\n",
        "        f\"{os.path.join(REGRESSION_PATH, 'eunite2001.t')}\",\n",
        "    )\n",
        "    urllib.request.urlretrieve(\n",
        "        \"https://www.csie.ntu.edu.tw/~cjlin/libsvmtools/datasets/regression/YearPredictionMSD.bz2\",\n",
        "        f\"{os.path.join(REGRESSION_PATH, 'YearPredictionMSD.bz2')}\",\n",
        "    )\n",
        "    urllib.request.urlretrieve(\n",
        "        \"https://www.csie.ntu.edu.tw/~cjlin/libsvmtools/datasets/regression/YearPredictionMSD.t.bz2\",\n",
        "        f\"{os.path.join(REGRESSION_PATH, 'YearPredictionMSD.t.bz2')}\",\n",
        "    )\n",
        "    for filepath in os.listdir(REGRESSION_PATH):\n",
        "        if filepath[-3:] == \"bz2\":\n",
        "            abs_filepath = os.path.join(REGRESSION_PATH, filepath)\n",
        "            with bz2.BZ2File(abs_filepath) as fr, open(abs_filepath[:-4], \"wb\") as fw:\n",
        "                shutil.copyfileobj(fr, fw)\n",
        "\n",
        "\n",
        "!nvidia-smi\n",
        "!pip install matplotlib scikit-learn tqdm torch torchmetrics torchsummary xgboost\n",
        "!pip install -U \"flwr-nightly[simulation]\""
      ]
    },
    {
      "cell_type": "markdown",
      "metadata": {
        "id": "gcvm0V_FTBP6"
      },
      "source": [
        "## Import relevant modules"
      ]
    },
    {
      "cell_type": "code",
      "execution_count": null,
      "metadata": {
        "colab": {
          "base_uri": "https://localhost:8080/"
        },
        "outputId": "7b5cc4f0-2539-40c3-b815-4f3ae3351561",
        "id": "AFJjgQyYTBP7"
      },
      "outputs": [
        {
          "output_type": "stream",
          "name": "stdout",
          "text": [
            "Imported modules.\n"
          ]
        }
      ],
      "source": [
        "import xgboost as xgb\n",
        "from xgboost import XGBClassifier, XGBRegressor\n",
        "from sklearn.metrics import mean_squared_error, accuracy_score\n",
        "from sklearn.datasets import load_svmlight_file\n",
        "\n",
        "import numpy as np\n",
        "import torch, torch.nn as nn\n",
        "import torch.nn.functional as F\n",
        "import torchvision\n",
        "from torchmetrics import Accuracy, MeanSquaredError\n",
        "from tqdm import trange, tqdm\n",
        "from torchsummary import summary\n",
        "from torch.utils.data import DataLoader, Dataset, random_split\n",
        "\n",
        "print(\"Imported modules.\")"
      ]
    },
    {
      "cell_type": "markdown",
      "metadata": {
        "id": "4ofv5yoYTBP7"
      },
      "source": [
        "## Import Flower relevant modules for Federated XGBoost"
      ]
    },
    {
      "cell_type": "code",
      "execution_count": null,
      "metadata": {
        "id": "rSnl16LUTBP8",
        "outputId": "f8f0ca60-b601-495c-fc12-fdbd643ea510",
        "colab": {
          "base_uri": "https://localhost:8080/"
        }
      },
      "outputs": [
        {
          "output_type": "stream",
          "name": "stdout",
          "text": [
            "Imported modules.\n"
          ]
        }
      ],
      "source": [
        "import flwr as fl\n",
        "from flwr.common.typing import Parameters\n",
        "from collections import OrderedDict\n",
        "from typing import Any, Dict, List, Optional, Tuple, Union\n",
        "from flwr.common import NDArray, NDArrays\n",
        "\n",
        "print(\"Imported modules.\")"
      ]
    },
    {
      "cell_type": "markdown",
      "metadata": {
        "id": "5gzXRvWCTBP8"
      },
      "source": [
        "## Define utility function for xgboost trees"
      ]
    },
    {
      "cell_type": "code",
      "execution_count": null,
      "metadata": {
        "id": "741OhA_aTBP8",
        "outputId": "bf353ea4-db39-44b4-d63f-d21a046bff5d",
        "colab": {
          "base_uri": "https://localhost:8080/"
        }
      },
      "outputs": [
        {
          "output_type": "stream",
          "name": "stderr",
          "text": [
            "/usr/local/lib/python3.10/dist-packages/ipykernel/ipkernel.py:283: DeprecationWarning: `should_run_async` will not call `transform_cell` automatically in the future. Please pass the result to `transformed_cell` argument and any exception that happen during thetransform in `preprocessing_exc_tuple` in IPython 7.17 and above.\n",
            "  and should_run_async(code)\n"
          ]
        }
      ],
      "source": [
        "from matplotlib import pyplot as plt  # pylint: disable=E0401\n",
        "\n",
        "\n",
        "def plot_xgbtree(tree: Union[XGBClassifier, XGBRegressor], n_tree: int) -> None:\n",
        "    \"\"\"Visualize the built xgboost tree.\"\"\"\n",
        "    xgb.plot_tree(tree, num_trees=n_tree)\n",
        "    plt.rcParams[\"figure.figsize\"] = [50, 10]\n",
        "    plt.show()\n",
        "\n",
        "\n",
        "def construct_tree(\n",
        "    dataset: Dataset, label: NDArray, n_estimators: int, tree_type: str\n",
        ") -> Union[XGBClassifier, XGBRegressor]:\n",
        "    \"\"\"Construct a xgboost tree form tabular dataset.\"\"\"\n",
        "    if tree_type == \"BINARY\":\n",
        "        tree = xgb.XGBClassifier(\n",
        "            objective=\"binary:logistic\",\n",
        "            learning_rate=0.1,\n",
        "            max_depth=8,\n",
        "            n_estimators=n_estimators,\n",
        "            subsample=0.8,\n",
        "            colsample_bylevel=1,\n",
        "            colsample_bynode=1,\n",
        "            colsample_bytree=1,\n",
        "            alpha=5,\n",
        "            gamma=5,\n",
        "            num_parallel_tree=1,\n",
        "            min_child_weight=1,\n",
        "        )\n",
        "\n",
        "    elif tree_type == \"REG\":\n",
        "        tree = xgb.XGBRegressor(\n",
        "            objective=\"reg:squarederror\",\n",
        "            learning_rate=0.1,\n",
        "            max_depth=8,\n",
        "            n_estimators=n_estimators,\n",
        "            subsample=0.8,\n",
        "            colsample_bylevel=1,\n",
        "            colsample_bynode=1,\n",
        "            colsample_bytree=1,\n",
        "            alpha=5,\n",
        "            gamma=5,\n",
        "            num_parallel_tree=1,\n",
        "            min_child_weight=1,\n",
        "        )\n",
        "\n",
        "    tree.fit(dataset, label)\n",
        "    return tree\n",
        "\n",
        "\n",
        "def construct_tree_from_loader(\n",
        "    dataset_loader: DataLoader, n_estimators: int, tree_type: str\n",
        ") -> Union[XGBClassifier, XGBRegressor]:\n",
        "    \"\"\"Construct a xgboost tree form tabular dataset loader.\"\"\"\n",
        "    for dataset in dataset_loader:\n",
        "        data, label = dataset[0], dataset[1]\n",
        "    return construct_tree(data, label, n_estimators, tree_type)\n",
        "\n",
        "\n",
        "def single_tree_prediction(\n",
        "    tree: Union[XGBClassifier, XGBRegressor], n_tree: int, dataset: NDArray\n",
        ") -> Optional[NDArray]:\n",
        "    \"\"\"Extract the prediction result of a single tree in the xgboost tree\n",
        "    ensemble.\"\"\"\n",
        "    # How to access a single tree\n",
        "    # https://github.com/bmreiniger/datascience.stackexchange/blob/master/57905.ipynb\n",
        "    num_t = len(tree.get_booster().get_dump())\n",
        "    if n_tree > num_t:\n",
        "        print(\n",
        "            \"The tree index to be extracted is larger than the total number of trees.\"\n",
        "        )\n",
        "        return None\n",
        "\n",
        "    return tree.predict(  # type: ignore\n",
        "        dataset, iteration_range=(n_tree, n_tree + 1), output_margin=True\n",
        "    )\n",
        "\n",
        "\n",
        "def tree_encoding(  # pylint: disable=R0914\n",
        "    trainloader: DataLoader,\n",
        "    client_trees: Union[\n",
        "        Tuple[XGBClassifier, int],\n",
        "        Tuple[XGBRegressor, int],\n",
        "        List[Union[Tuple[XGBClassifier, int], Tuple[XGBRegressor, int]]],\n",
        "    ],\n",
        "    client_tree_num: int,\n",
        "    client_num: int,\n",
        ") -> Optional[Tuple[NDArray, NDArray]]:\n",
        "    \"\"\"Transform the tabular dataset into prediction results using the\n",
        "    aggregated xgboost tree ensembles from all clients.\"\"\"\n",
        "    if trainloader is None:\n",
        "        return None\n",
        "\n",
        "    for local_dataset in trainloader:\n",
        "        x_train, y_train = local_dataset[0], local_dataset[1]\n",
        "\n",
        "    x_train_enc = np.zeros((x_train.shape[0], client_num * client_tree_num))\n",
        "    x_train_enc = np.array(x_train_enc, copy=True)\n",
        "\n",
        "    temp_trees: Any = None\n",
        "    if isinstance(client_trees, list) is False:\n",
        "        temp_trees = [client_trees[0]] * client_num\n",
        "    elif isinstance(client_trees, list) and len(client_trees) != client_num:\n",
        "        temp_trees = [client_trees[0][0]] * client_num\n",
        "    else:\n",
        "        cids = []\n",
        "        temp_trees = []\n",
        "        for i, _ in enumerate(client_trees):\n",
        "            temp_trees.append(client_trees[i][0])  # type: ignore\n",
        "            cids.append(client_trees[i][1])  # type: ignore\n",
        "        sorted_index = np.argsort(np.asarray(cids))\n",
        "        temp_trees = np.asarray(temp_trees)[sorted_index]\n",
        "\n",
        "    for i, _ in enumerate(temp_trees):\n",
        "        for j in range(client_tree_num):\n",
        "            x_train_enc[:, i * client_tree_num + j] = single_tree_prediction(\n",
        "                temp_trees[i], j, x_train\n",
        "            )\n",
        "\n",
        "    x_train_enc32: Any = np.float32(x_train_enc)\n",
        "    y_train32: Any = np.float32(y_train)\n",
        "\n",
        "    x_train_enc32, y_train32 = torch.from_numpy(\n",
        "        np.expand_dims(x_train_enc32, axis=1)  # type: ignore\n",
        "    ), torch.from_numpy(\n",
        "        np.expand_dims(y_train32, axis=-1)  # type: ignore\n",
        "    )\n",
        "    return x_train_enc32, y_train32"
      ]
    },
    {
      "cell_type": "markdown",
      "metadata": {
        "id": "MVB6-44-TBP9"
      },
      "source": [
        "## Manually download and load the tabular dataset from LIBSVM data"
      ]
    },
    {
      "cell_type": "code",
      "execution_count": null,
      "metadata": {
        "colab": {
          "base_uri": "https://localhost:8080/"
        },
        "outputId": "9275c204-9281-44ad-a01e-72ab322c25cb",
        "id": "bj6kJPF3TBP-"
      },
      "outputs": [
        {
          "output_type": "stream",
          "name": "stdout",
          "text": [
            "Task type selected is: BINARY\n",
            "Training dataset is: cod-rna.t\n",
            "Test dataset is: cod-rna.r\n"
          ]
        }
      ],
      "source": [
        "# Datasets can be downloaded from LIBSVM Data: https://www.csie.ntu.edu.tw/~cjlin/libsvmtools/datasets/\n",
        "binary_train = [\"cod-rna.t\", \"cod-rna\", \"ijcnn1.t\"]\n",
        "binary_test = [\"cod-rna.r\", \"cod-rna.t\", \"ijcnn1.tr\"]\n",
        "reg_train = [\"eunite2001\", \"YearPredictionMSD\"]\n",
        "reg_test = [\"eunite2001.t\", \"YearPredictionMSD.t\"]\n",
        "\n",
        "# Define the type of training task. Binary classification: BINARY; Regression: REG\n",
        "task_types = [\"BINARY\", \"REG\"]\n",
        "task_type = task_types[0]\n",
        "\n",
        "# Select the downloaded training and test dataset\n",
        "if task_type == \"BINARY\":\n",
        "    dataset_path = \"dataset/binary_classification/\"\n",
        "    train = binary_train[0]\n",
        "    test = binary_test[0]\n",
        "elif task_type == \"REG\":\n",
        "    dataset_path = \"dataset/regression/\"\n",
        "    train = reg_train[0]\n",
        "    test = reg_test[0]\n",
        "\n",
        "data_train = load_svmlight_file(dataset_path + train, zero_based=False)\n",
        "data_test = load_svmlight_file(dataset_path + test, zero_based=False)\n",
        "\n",
        "print(\"Task type selected is: \" + task_type)\n",
        "print(\"Training dataset is: \" + train)\n",
        "print(\"Test dataset is: \" + test)"
      ]
    },
    {
      "cell_type": "markdown",
      "metadata": {
        "id": "lcHyVXJITBP-"
      },
      "source": [
        "## Preprocess the tabular dataset"
      ]
    },
    {
      "cell_type": "code",
      "execution_count": null,
      "metadata": {
        "id": "2mQ0zme0TBP-",
        "outputId": "678f1d70-5f0d-4b47-f5f0-dac16d73b25c",
        "colab": {
          "base_uri": "https://localhost:8080/"
        }
      },
      "outputs": [
        {
          "output_type": "stream",
          "name": "stdout",
          "text": [
            "Feature dimension of the dataset: 8\n",
            "Size of the trainset: 271617\n",
            "Size of the testset: 157413\n"
          ]
        }
      ],
      "source": [
        "class TreeDataset(Dataset):\n",
        "    def __init__(self, data: NDArray, labels: NDArray) -> None:\n",
        "        self.labels = labels\n",
        "        self.data = data\n",
        "\n",
        "    def __len__(self) -> int:\n",
        "        return len(self.labels)\n",
        "\n",
        "    def __getitem__(self, idx: int) -> Dict[int, NDArray]:\n",
        "        label = self.labels[idx]\n",
        "        data = self.data[idx, :]\n",
        "        sample = {0: data, 1: label}\n",
        "        return sample\n",
        "\n",
        "\n",
        "X_train = data_train[0].toarray()\n",
        "y_train = data_train[1]\n",
        "X_test = data_test[0].toarray()\n",
        "y_test = data_test[1]\n",
        "X_train.flags.writeable = True\n",
        "y_train.flags.writeable = True\n",
        "X_test.flags.writeable = True\n",
        "y_test.flags.writeable = True\n",
        "\n",
        "# If the feature dimensions of the trainset and testset do not agree,\n",
        "# specify n_features in the load_svmlight_file function in the above cell.\n",
        "# https://scikit-learn.org/stable/modules/generated/sklearn.datasets.load_svmlight_file.html\n",
        "\n",
        "\n",
        "\n",
        "print(\"Feature dimension of the dataset:\", X_train.shape[1])\n",
        "print(\"Size of the trainset:\", X_train.shape[0])\n",
        "print(\"Size of the testset:\", X_test.shape[0])\n",
        "assert X_train.shape[1] == X_test.shape[1]\n",
        "\n",
        "if task_type == \"BINARY\":\n",
        "    y_train[y_train == -1] = 0\n",
        "    y_test[y_test == -1] = 0\n",
        "\n",
        "trainset = TreeDataset(np.array(X_train, copy=True), np.array(y_train, copy=True))\n",
        "testset = TreeDataset(np.array(X_test, copy=True), np.array(y_test, copy=True))"
      ]
    },
    {
      "cell_type": "markdown",
      "metadata": {
        "id": "AKSqdMy_TBP_"
      },
      "source": [
        "## Conduct tabular dataset partition for Federated Learning"
      ]
    },
    {
      "cell_type": "code",
      "execution_count": null,
      "metadata": {
        "id": "okquXpiDTBP_"
      },
      "outputs": [],
      "source": [
        "def get_dataloader(\n",
        "    dataset: Dataset, partition: str, batch_size: Union[int, str]\n",
        ") -> DataLoader:\n",
        "    if batch_size == \"whole\":\n",
        "        batch_size = len(dataset)\n",
        "    return DataLoader(\n",
        "        dataset, batch_size=batch_size, pin_memory=True, shuffle=(partition == \"train\")\n",
        "    )\n",
        "\n",
        "\n",
        "# https://github.com/adap/flower\n",
        "def do_fl_partitioning(\n",
        "    trainset: Dataset,\n",
        "    testset: Dataset,\n",
        "    pool_size: int,\n",
        "    batch_size: Union[int, str],\n",
        "    val_ratio: float = 0.0,\n",
        ") -> Tuple[DataLoader, DataLoader, DataLoader]:\n",
        "    # Split training set into `num_clients` partitions to simulate different local datasets\n",
        "    partition_size = len(trainset) // pool_size\n",
        "    lengths = [partition_size] * pool_size\n",
        "    if sum(lengths) != len(trainset):\n",
        "        lengths[-1] = len(trainset) - sum(lengths[0:-1])\n",
        "    datasets = random_split(trainset, lengths, torch.Generator().manual_seed(0))\n",
        "\n",
        "    # Split each partition into train/val and create DataLoader\n",
        "    trainloaders = []\n",
        "    valloaders = []\n",
        "    for ds in datasets:\n",
        "        len_val = int(len(ds) * val_ratio)\n",
        "        len_train = len(ds) - len_val\n",
        "        lengths = [len_train, len_val]\n",
        "        ds_train, ds_val = random_split(ds, lengths, torch.Generator().manual_seed(0))\n",
        "        trainloaders.append(get_dataloader(ds_train, \"train\", batch_size))\n",
        "        if len_val != 0:\n",
        "            valloaders.append(get_dataloader(ds_val, \"val\", batch_size))\n",
        "        else:\n",
        "            valloaders = None\n",
        "    testloader = get_dataloader(testset, \"test\", batch_size)\n",
        "    return trainloaders, valloaders, testloader"
      ]
    },
    {
      "cell_type": "markdown",
      "metadata": {
        "id": "dhgAxU16TBP_"
      },
      "source": [
        "## Define global variables for Federated XGBoost Learning"
      ]
    },
    {
      "cell_type": "code",
      "execution_count": null,
      "metadata": {
        "id": "6gXic9Y4TBP_"
      },
      "outputs": [],
      "source": [
        "# The number of clients participated in the federated learning\n",
        "client_num = 2\n",
        "\n",
        "# The number of XGBoost trees in the tree ensemble that will be built for each client\n",
        "client_tree_num = 500 // client_num"
      ]
    },
    {
      "cell_type": "markdown",
      "metadata": {
        "id": "YTarvnveTBQA"
      },
      "source": [
        "## Build global XGBoost tree for comparison"
      ]
    },
    {
      "cell_type": "code",
      "execution_count": null,
      "metadata": {
        "colab": {
          "base_uri": "https://localhost:8080/"
        },
        "outputId": "8808fac0-0579-4843-aa25-d9b47d39ba6b",
        "id": "6OfC4teWTBQA"
      },
      "outputs": [
        {
          "output_type": "stream",
          "name": "stdout",
          "text": [
            "Global XGBoost Training Accuracy: 0.978032\n",
            "Global XGBoost Testing Accuracy: 0.967989\n",
            "XGBClassifier(alpha=5, base_score=None, booster=None, callbacks=None,\n",
            "              colsample_bylevel=1, colsample_bynode=1, colsample_bytree=1,\n",
            "              device=None, early_stopping_rounds=None, enable_categorical=False,\n",
            "              eval_metric=None, feature_types=None, gamma=5, grow_policy=None,\n",
            "              importance_type=None, interaction_constraints=None,\n",
            "              learning_rate=0.1, max_bin=None, max_cat_threshold=None,\n",
            "              max_cat_to_onehot=None, max_delta_step=None, max_depth=8,\n",
            "              max_leaves=None, min_child_weight=1, missing=nan,\n",
            "              monotone_constraints=None, multi_strategy=None, n_estimators=250,\n",
            "              n_jobs=None, num_parallel_tree=1, ...)\n"
          ]
        }
      ],
      "source": [
        "global_tree = construct_tree(X_train, y_train, client_tree_num, task_type)\n",
        "preds_train = global_tree.predict(X_train)\n",
        "preds_test = global_tree.predict(X_test)\n",
        "\n",
        "if task_type == \"BINARY\":\n",
        "    result_train = accuracy_score(y_train, preds_train)\n",
        "    result_test = accuracy_score(y_test, preds_test)\n",
        "    print(\"Global XGBoost Training Accuracy: %f\" % (result_train))\n",
        "    print(\"Global XGBoost Testing Accuracy: %f\" % (result_test))\n",
        "elif task_type == \"REG\":\n",
        "    result_train = mean_squared_error(y_train, preds_train)\n",
        "    result_test = mean_squared_error(y_test, preds_test)\n",
        "    print(\"Global XGBoost Training MSE: %f\" % (result_train))\n",
        "    print(\"Global XGBoost Testing MSE: %f\" % (result_test))\n",
        "\n",
        "print(global_tree)"
      ]
    },
    {
      "cell_type": "markdown",
      "metadata": {
        "id": "py6pOiQNTBQA"
      },
      "source": [
        "## Simulate local XGBoost trees on clients for comparison"
      ]
    },
    {
      "cell_type": "code",
      "execution_count": null,
      "metadata": {
        "colab": {
          "base_uri": "https://localhost:8080/"
        },
        "outputId": "3e538249-26e6-4d2d-c6d0-f8916e0edece",
        "id": "OnZU8pqgTBQA"
      },
      "outputs": [
        {
          "output_type": "stream",
          "name": "stderr",
          "text": [
            "/usr/local/lib/python3.10/dist-packages/ipykernel/ipkernel.py:283: DeprecationWarning: `should_run_async` will not call `transform_cell` automatically in the future. Please pass the result to `transformed_cell` argument and any exception that happen during thetransform in `preprocessing_exc_tuple` in IPython 7.17 and above.\n",
            "  and should_run_async(code)\n"
          ]
        },
        {
          "output_type": "stream",
          "name": "stdout",
          "text": [
            "Local Client 0 XGBoost Training Accuracy: 0.975951\n",
            "Local Client 0 XGBoost Testing Accuracy: 0.964730\n",
            "Local Client 1 XGBoost Training Accuracy: 0.976298\n",
            "Local Client 1 XGBoost Testing Accuracy: 0.965105\n"
          ]
        }
      ],
      "source": [
        "client_trees_comparison = []\n",
        "trainloaders, _, testloader = do_fl_partitioning(\n",
        "    trainset, testset, pool_size=client_num, batch_size=\"whole\", val_ratio=0.0\n",
        ")\n",
        "\n",
        "for i, trainloader in enumerate(trainloaders):\n",
        "    for local_dataset in trainloader:\n",
        "        local_X_train, local_y_train = local_dataset[0], local_dataset[1]\n",
        "        tree = construct_tree(local_X_train, local_y_train, client_tree_num, task_type)\n",
        "        client_trees_comparison.append(tree)\n",
        "\n",
        "        preds_train = client_trees_comparison[-1].predict(local_X_train)\n",
        "        preds_test = client_trees_comparison[-1].predict(X_test)\n",
        "\n",
        "        if task_type == \"BINARY\":\n",
        "            result_train = accuracy_score(local_y_train, preds_train)\n",
        "            result_test = accuracy_score(y_test, preds_test)\n",
        "            print(\"Local Client %d XGBoost Training Accuracy: %f\" % (i, result_train))\n",
        "            print(\"Local Client %d XGBoost Testing Accuracy: %f\" % (i, result_test))\n",
        "        elif task_type == \"REG\":\n",
        "            result_train = mean_squared_error(local_y_train, preds_train)\n",
        "            result_test = mean_squared_error(y_test, preds_test)\n",
        "            print(\"Local Client %d XGBoost Training MSE: %f\" % (i, result_train))\n",
        "            print(\"Local Client %d XGBoost Testing MSE: %f\" % (i, result_test))"
      ]
    },
    {
      "cell_type": "markdown",
      "metadata": {
        "id": "LNMIxZZ6TBQB"
      },
      "source": [
        "## Centralized Federated XGBoost\n",
        "#### Create 1D convolutional neural network on trees prediction results.\n",
        "#### 1D kernel size == client_tree_num\n",
        "#### Make the learning rate of the tree ensembles learnable."
      ]
    },
    {
      "cell_type": "code",
      "execution_count": null,
      "metadata": {
        "id": "inPQTU1TTBQB",
        "outputId": "b03126a5-412d-4af9-9f06-4f03350ef08f",
        "colab": {
          "base_uri": "https://localhost:8080/"
        }
      },
      "outputs": [
        {
          "output_type": "stream",
          "name": "stderr",
          "text": [
            "/usr/local/lib/python3.10/dist-packages/ipykernel/ipkernel.py:283: DeprecationWarning: `should_run_async` will not call `transform_cell` automatically in the future. Please pass the result to `transformed_cell` argument and any exception that happen during thetransform in `preprocessing_exc_tuple` in IPython 7.17 and above.\n",
            "  and should_run_async(code)\n"
          ]
        }
      ],
      "source": [
        "class CNN(nn.Module):\n",
        "    def __init__(self, n_channel: int = 64) -> None:\n",
        "        super(CNN, self).__init__()\n",
        "        n_out = 1\n",
        "        self.task_type = task_type\n",
        "        self.conv1d = nn.Conv1d(\n",
        "            1, n_channel, kernel_size=client_tree_num, stride=client_tree_num, padding=0\n",
        "        )\n",
        "        self.layer_direct = nn.Linear(n_channel * client_num, n_out)\n",
        "        self.ReLU = nn.ReLU()\n",
        "        self.Sigmoid = nn.Sigmoid()\n",
        "        self.Identity = nn.Identity()\n",
        "\n",
        "        # Add weight initialization\n",
        "        for layer in self.modules():\n",
        "            if isinstance(layer, nn.Linear):\n",
        "                nn.init.kaiming_uniform_(\n",
        "                    layer.weight, mode=\"fan_in\", nonlinearity=\"relu\"\n",
        "                )\n",
        "\n",
        "    def forward(self, x: torch.Tensor) -> torch.Tensor:\n",
        "        x = self.ReLU(self.conv1d(x))\n",
        "        x = x.flatten(start_dim=1)\n",
        "        x = self.ReLU(x)\n",
        "        if self.task_type == \"BINARY\":\n",
        "            x = self.Sigmoid(self.layer_direct(x))\n",
        "        elif self.task_type == \"REG\":\n",
        "            x = self.Identity(self.layer_direct(x))\n",
        "        return x\n",
        "\n",
        "    def get_weights(self) -> fl.common.NDArrays:\n",
        "        \"\"\"Get model weights as a list of NumPy ndarrays.\"\"\"\n",
        "        return [\n",
        "            np.array(val.cpu().numpy(), copy=True)\n",
        "            for _, val in self.state_dict().items()\n",
        "        ]\n",
        "\n",
        "    def set_weights(self, weights: fl.common.NDArrays) -> None:\n",
        "        \"\"\"Set model weights from a list of NumPy ndarrays.\"\"\"\n",
        "        layer_dict = {}\n",
        "        for k, v in zip(self.state_dict().keys(), weights):\n",
        "            if v.ndim != 0:\n",
        "                layer_dict[k] = torch.Tensor(np.array(v, copy=True))\n",
        "        state_dict = OrderedDict(layer_dict)\n",
        "        self.load_state_dict(state_dict, strict=True)\n",
        "\n",
        "\n",
        "def train(\n",
        "    task_type: str,\n",
        "    net: CNN,\n",
        "    trainloader: DataLoader,\n",
        "    device: torch.device,\n",
        "    num_iterations: int,\n",
        "    log_progress: bool = True,\n",
        ") -> Tuple[float, float, int]:\n",
        "    # Define loss and optimizer\n",
        "    if task_type == \"BINARY\":\n",
        "        criterion = nn.BCELoss()\n",
        "    elif task_type == \"REG\":\n",
        "        criterion = nn.MSELoss()\n",
        "    # optimizer = torch.optim.SGD(net.parameters(), lr=0.001, momentum=0.9, weight_decay=1e-6)\n",
        "    optimizer = torch.optim.Adam(net.parameters(), lr=0.0001, betas=(0.9, 0.999))\n",
        "\n",
        "    def cycle(iterable):\n",
        "        \"\"\"Repeats the contents of the train loader, in case it gets exhausted in 'num_iterations'.\"\"\"\n",
        "        while True:\n",
        "            for x in iterable:\n",
        "                yield x\n",
        "\n",
        "    # Train the network\n",
        "    net.train()\n",
        "    total_loss, total_result, n_samples = 0.0, 0.0, 0\n",
        "    pbar = (\n",
        "        tqdm(iter(cycle(trainloader)), total=num_iterations, desc=f\"TRAIN\")\n",
        "        if log_progress\n",
        "        else iter(cycle(trainloader))\n",
        "    )\n",
        "\n",
        "    # Unusually, this training is formulated in terms of number of updates/iterations/batches processed\n",
        "    # by the network. This will be helpful later on, when partitioning the data across clients: resulting\n",
        "    # in differences between dataset sizes and hence inconsistent numbers of updates per 'epoch'.\n",
        "    for i, data in zip(range(num_iterations), pbar):\n",
        "        tree_outputs, labels = data[0].to(device), data[1].to(device)\n",
        "        optimizer.zero_grad()\n",
        "\n",
        "        outputs = net(tree_outputs)\n",
        "        loss = criterion(outputs, labels)\n",
        "        loss.backward()\n",
        "        optimizer.step()\n",
        "\n",
        "        # Collected training loss and accuracy statistics\n",
        "        total_loss += loss.item()\n",
        "        n_samples += labels.size(0)\n",
        "\n",
        "        if task_type == \"BINARY\":\n",
        "            acc = Accuracy(task=\"binary\")(outputs, labels.type(torch.int))\n",
        "            total_result += acc * labels.size(0)\n",
        "        elif task_type == \"REG\":\n",
        "            mse = MeanSquaredError()(outputs, labels.type(torch.int))\n",
        "            total_result += mse * labels.size(0)\n",
        "\n",
        "        if log_progress:\n",
        "            if task_type == \"BINARY\":\n",
        "                pbar.set_postfix(\n",
        "                    {\n",
        "                        \"train_loss\": total_loss / n_samples,\n",
        "                        \"train_acc\": total_result / n_samples,\n",
        "                    }\n",
        "                )\n",
        "            elif task_type == \"REG\":\n",
        "                pbar.set_postfix(\n",
        "                    {\n",
        "                        \"train_loss\": total_loss / n_samples,\n",
        "                        \"train_mse\": total_result / n_samples,\n",
        "                    }\n",
        "                )\n",
        "    if log_progress:\n",
        "        print(\"\\n\")\n",
        "\n",
        "    return total_loss / n_samples, total_result / n_samples, n_samples\n",
        "\n",
        "\n",
        "def test(\n",
        "    task_type: str,\n",
        "    net: CNN,\n",
        "    testloader: DataLoader,\n",
        "    device: torch.device,\n",
        "    log_progress: bool = True,\n",
        ") -> Tuple[float, float, int]:\n",
        "    \"\"\"Evaluates the network on test data.\"\"\"\n",
        "    if task_type == \"BINARY\":\n",
        "        criterion = nn.BCELoss()\n",
        "    elif task_type == \"REG\":\n",
        "        criterion = nn.MSELoss()\n",
        "\n",
        "    total_loss, total_result, n_samples = 0.0, 0.0, 0\n",
        "    net.eval()\n",
        "    with torch.no_grad():\n",
        "        pbar = tqdm(testloader, desc=\"TEST\") if log_progress else testloader\n",
        "        for data in pbar:\n",
        "            tree_outputs, labels = data[0].to(device), data[1].to(device)\n",
        "            outputs = net(tree_outputs)\n",
        "\n",
        "            # Collected testing loss and accuracy statistics\n",
        "            total_loss += criterion(outputs, labels).item()\n",
        "            n_samples += labels.size(0)\n",
        "\n",
        "            if task_type == \"BINARY\":\n",
        "                acc = Accuracy(task=\"binary\")(\n",
        "                    outputs.cpu(), labels.type(torch.int).cpu()\n",
        "                )\n",
        "                total_result += acc * labels.size(0)\n",
        "            elif task_type == \"REG\":\n",
        "                mse = MeanSquaredError()(outputs.cpu(), labels.type(torch.int).cpu())\n",
        "                total_result += mse * labels.size(0)\n",
        "\n",
        "    if log_progress:\n",
        "        print(\"\\n\")\n",
        "\n",
        "    return total_loss / n_samples, total_result / n_samples, n_samples"
      ]
    },
    {
      "cell_type": "markdown",
      "metadata": {
        "id": "hhG5FEYdTBQB"
      },
      "source": [
        "## Create Flower custom client\n",
        "## Import Flower custom client relevant modules"
      ]
    },
    {
      "cell_type": "code",
      "execution_count": null,
      "metadata": {
        "id": "H8rVtzlfTBQC"
      },
      "outputs": [],
      "source": [
        "# Flower client\n",
        "from flwr.common import (\n",
        "    EvaluateIns,\n",
        "    EvaluateRes,\n",
        "    FitIns,\n",
        "    FitRes,\n",
        "    GetPropertiesIns,\n",
        "    GetPropertiesRes,\n",
        "    GetParametersIns,\n",
        "    GetParametersRes,\n",
        "    Status,\n",
        "    Code,\n",
        "    parameters_to_ndarrays,\n",
        "    ndarrays_to_parameters,\n",
        ")"
      ]
    },
    {
      "cell_type": "code",
      "execution_count": null,
      "metadata": {
        "id": "JL0VPamhTBQC"
      },
      "outputs": [],
      "source": [
        "def tree_encoding_loader(\n",
        "    dataloader: DataLoader,\n",
        "    batch_size: int,\n",
        "    client_trees: Union[\n",
        "        Tuple[XGBClassifier, int],\n",
        "        Tuple[XGBRegressor, int],\n",
        "        List[Union[Tuple[XGBClassifier, int], Tuple[XGBRegressor, int]]],\n",
        "    ],\n",
        "    client_tree_num: int,\n",
        "    client_num: int,\n",
        ") -> DataLoader:\n",
        "    encoding = tree_encoding(dataloader, client_trees, client_tree_num, client_num)\n",
        "    if encoding is None:\n",
        "        return None\n",
        "    data, labels = encoding\n",
        "    tree_dataset = TreeDataset(data, labels)\n",
        "    return get_dataloader(tree_dataset, \"tree\", batch_size)\n",
        "\n",
        "\n",
        "class FL_Client(fl.client.Client):\n",
        "    def __init__(\n",
        "        self,\n",
        "        task_type: str,\n",
        "        trainloader: DataLoader,\n",
        "        valloader: DataLoader,\n",
        "        client_tree_num: int,\n",
        "        client_num: int,\n",
        "        cid: str,\n",
        "        log_progress: bool = False,\n",
        "    ):\n",
        "        \"\"\"\n",
        "        Creates a client for training `network.Net` on tabular dataset.\n",
        "        \"\"\"\n",
        "        self.task_type = task_type\n",
        "        self.cid = cid\n",
        "        self.tree = construct_tree_from_loader(trainloader, client_tree_num, task_type)\n",
        "        self.trainloader_original = trainloader\n",
        "        self.valloader_original = valloader\n",
        "        self.trainloader = None\n",
        "        self.valloader = None\n",
        "        self.client_tree_num = client_tree_num\n",
        "        self.client_num = client_num\n",
        "        self.properties = {\"tensor_type\": \"numpy.ndarray\"}\n",
        "        self.log_progress = log_progress\n",
        "\n",
        "        # instantiate model\n",
        "        self.net = CNN()\n",
        "\n",
        "        # determine device\n",
        "        self.device = torch.device(\"cuda:0\" if torch.cuda.is_available() else \"cpu\")\n",
        "\n",
        "    def get_properties(self, ins: GetPropertiesIns) -> GetPropertiesRes:\n",
        "        return GetPropertiesRes(properties=self.properties)\n",
        "\n",
        "    def get_parameters(\n",
        "        self, ins: GetParametersIns\n",
        "    ) -> Tuple[\n",
        "        GetParametersRes, Union[Tuple[XGBClassifier, int], Tuple[XGBRegressor, int]]\n",
        "    ]:\n",
        "        return [\n",
        "            GetParametersRes(\n",
        "                status=Status(Code.OK, \"\"),\n",
        "                parameters=ndarrays_to_parameters(self.net.get_weights()),\n",
        "            ),\n",
        "            (self.tree, int(self.cid)),\n",
        "        ]\n",
        "\n",
        "    def set_parameters(\n",
        "        self,\n",
        "        parameters: Tuple[\n",
        "            Parameters,\n",
        "            Union[\n",
        "                Tuple[XGBClassifier, int],\n",
        "                Tuple[XGBRegressor, int],\n",
        "                List[Union[Tuple[XGBClassifier, int], Tuple[XGBRegressor, int]]],\n",
        "            ],\n",
        "        ],\n",
        "    ) -> Union[\n",
        "        Tuple[XGBClassifier, int],\n",
        "        Tuple[XGBRegressor, int],\n",
        "        List[Union[Tuple[XGBClassifier, int], Tuple[XGBRegressor, int]]],\n",
        "    ]:\n",
        "        self.net.set_weights(parameters_to_ndarrays(parameters[0]))\n",
        "        return parameters[1]\n",
        "\n",
        "    def fit(self, fit_params: FitIns) -> FitRes:\n",
        "        # Process incoming request to train\n",
        "        num_iterations = fit_params.config[\"num_iterations\"]\n",
        "        batch_size = fit_params.config[\"batch_size\"]\n",
        "        aggregated_trees = self.set_parameters(fit_params.parameters)\n",
        "\n",
        "        if type(aggregated_trees) is list:\n",
        "            print(\"Client \" + self.cid + \": received\", len(aggregated_trees), \"trees\")\n",
        "        else:\n",
        "            print(\"Client \" + self.cid + \": only had its own tree\")\n",
        "        self.trainloader = tree_encoding_loader(\n",
        "            self.trainloader_original,\n",
        "            batch_size,\n",
        "            aggregated_trees,\n",
        "            self.client_tree_num,\n",
        "            self.client_num,\n",
        "        )\n",
        "        self.valloader = tree_encoding_loader(\n",
        "            self.valloader_original,\n",
        "            batch_size,\n",
        "            aggregated_trees,\n",
        "            self.client_tree_num,\n",
        "            self.client_num,\n",
        "        )\n",
        "\n",
        "        # num_iterations = None special behaviour: train(...) runs for a single epoch, however many updates it may be\n",
        "        num_iterations = num_iterations or len(self.trainloader)\n",
        "\n",
        "        # Train the model\n",
        "        print(f\"Client {self.cid}: training for {num_iterations} iterations/updates\")\n",
        "        self.net.to(self.device)\n",
        "        train_loss, train_result, num_examples = train(\n",
        "            self.task_type,\n",
        "            self.net,\n",
        "            self.trainloader,\n",
        "            device=self.device,\n",
        "            num_iterations=num_iterations,\n",
        "            log_progress=self.log_progress,\n",
        "        )\n",
        "        print(\n",
        "            f\"Client {self.cid}: training round complete, {num_examples} examples processed\"\n",
        "        )\n",
        "\n",
        "        # Return training information: model, number of examples processed and metrics\n",
        "        if self.task_type == \"BINARY\":\n",
        "            return FitRes(\n",
        "                status=Status(Code.OK, \"\"),\n",
        "                parameters=self.get_parameters(fit_params.config),\n",
        "                num_examples=num_examples,\n",
        "                metrics={\"loss\": train_loss, \"accuracy\": train_result},\n",
        "            )\n",
        "        elif self.task_type == \"REG\":\n",
        "            return FitRes(\n",
        "                status=Status(Code.OK, \"\"),\n",
        "                parameters=self.get_parameters(fit_params.config),\n",
        "                num_examples=num_examples,\n",
        "                metrics={\"loss\": train_loss, \"mse\": train_result},\n",
        "            )\n",
        "\n",
        "    def evaluate(self, eval_params: EvaluateIns) -> EvaluateRes:\n",
        "        # Process incoming request to evaluate\n",
        "        self.set_parameters(eval_params.parameters)\n",
        "\n",
        "        # Evaluate the model\n",
        "        self.net.to(self.device)\n",
        "        loss, result, num_examples = test(\n",
        "            self.task_type,\n",
        "            self.net,\n",
        "            self.valloader,\n",
        "            device=self.device,\n",
        "            log_progress=self.log_progress,\n",
        "        )\n",
        "\n",
        "        # Return evaluation information\n",
        "        if self.task_type == \"BINARY\":\n",
        "            print(\n",
        "                f\"Client {self.cid}: evaluation on {num_examples} examples: loss={loss:.4f}, accuracy={result:.4f}\"\n",
        "            )\n",
        "            return EvaluateRes(\n",
        "                status=Status(Code.OK, \"\"),\n",
        "                loss=loss,\n",
        "                num_examples=num_examples,\n",
        "                metrics={\"accuracy\": result},\n",
        "            )\n",
        "        elif self.task_type == \"REG\":\n",
        "            print(\n",
        "                f\"Client {self.cid}: evaluation on {num_examples} examples: loss={loss:.4f}, mse={result:.4f}\"\n",
        "            )\n",
        "            return EvaluateRes(\n",
        "                status=Status(Code.OK, \"\"),\n",
        "                loss=loss,\n",
        "                num_examples=num_examples,\n",
        "                metrics={\"mse\": result},\n",
        "            )"
      ]
    },
    {
      "cell_type": "markdown",
      "metadata": {
        "id": "uw5fuuocTBQC"
      },
      "source": [
        "## Create Flower custom server\n",
        "## Import Flower custom server relevant modules"
      ]
    },
    {
      "cell_type": "code",
      "execution_count": null,
      "metadata": {
        "id": "3Eej0FpKTBQD"
      },
      "outputs": [],
      "source": [
        "# Flower server\n",
        "import functools\n",
        "from flwr.server.strategy import FedXgbNnAvg\n",
        "from flwr.server.app import ServerConfig\n",
        "\n",
        "import timeit\n",
        "from logging import DEBUG, INFO\n",
        "from typing import Dict, List, Optional, Tuple, Union\n",
        "\n",
        "from flwr.common import DisconnectRes, Parameters, ReconnectIns, Scalar\n",
        "from flwr.common.logger import log\n",
        "from flwr.common.typing import GetParametersIns\n",
        "from flwr.server.client_manager import ClientManager, SimpleClientManager\n",
        "from flwr.server.client_proxy import ClientProxy\n",
        "from flwr.server.history import History\n",
        "from flwr.server.strategy import Strategy\n",
        "from flwr.server.server import (\n",
        "    reconnect_clients,\n",
        "    reconnect_client,\n",
        "    fit_clients,\n",
        "    fit_client,\n",
        "    _handle_finished_future_after_fit,\n",
        "    evaluate_clients,\n",
        "    evaluate_client,\n",
        "    _handle_finished_future_after_evaluate,\n",
        ")\n",
        "\n",
        "FitResultsAndFailures = Tuple[\n",
        "    List[Tuple[ClientProxy, FitRes]],\n",
        "    List[Union[Tuple[ClientProxy, FitRes], BaseException]],\n",
        "]\n",
        "EvaluateResultsAndFailures = Tuple[\n",
        "    List[Tuple[ClientProxy, EvaluateRes]],\n",
        "    List[Union[Tuple[ClientProxy, EvaluateRes], BaseException]],\n",
        "]"
      ]
    },
    {
      "cell_type": "code",
      "execution_count": null,
      "metadata": {
        "id": "m_kMMDmqTBQD"
      },
      "outputs": [],
      "source": [
        "class FL_Server(fl.server.Server):\n",
        "    \"\"\"Flower server.\"\"\"\n",
        "\n",
        "    def __init__(\n",
        "        self, *, client_manager: ClientManager, strategy: Optional[Strategy] = None\n",
        "    ) -> None:\n",
        "        self._client_manager: ClientManager = client_manager\n",
        "        self.parameters: Parameters = Parameters(\n",
        "            tensors=[], tensor_type=\"numpy.ndarray\"\n",
        "        )\n",
        "        self.strategy: Strategy = strategy\n",
        "        self.max_workers: Optional[int] = None\n",
        "\n",
        "    # pylint: disable=too-many-locals\n",
        "    def fit(self, num_rounds: int, timeout: Optional[float]) -> History:\n",
        "        \"\"\"Run federated averaging for a number of rounds.\"\"\"\n",
        "        history = History()\n",
        "\n",
        "        # Initialize parameters\n",
        "        log(INFO, \"Initializing global parameters\")\n",
        "        self.parameters = self._get_initial_parameters(timeout=timeout)\n",
        "\n",
        "        log(INFO, \"Evaluating initial parameters\")\n",
        "        res = self.strategy.evaluate(0, parameters=self.parameters)\n",
        "        if res is not None:\n",
        "            log(\n",
        "                INFO,\n",
        "                \"initial parameters (loss, other metrics): %s, %s\",\n",
        "                res[0],\n",
        "                res[1],\n",
        "            )\n",
        "            history.add_loss_centralized(server_round=0, loss=res[0])\n",
        "            history.add_metrics_centralized(server_round=0, metrics=res[1])\n",
        "\n",
        "        # Run federated learning for num_rounds\n",
        "        log(INFO, \"FL starting\")\n",
        "        start_time = timeit.default_timer()\n",
        "\n",
        "        for current_round in range(1, num_rounds + 1):\n",
        "            # Train model and replace previous global model\n",
        "            res_fit = self.fit_round(server_round=current_round, timeout=timeout)\n",
        "            if res_fit:\n",
        "                parameters_prime, _, _ = res_fit  # fit_metrics_aggregated\n",
        "                if parameters_prime:\n",
        "                    self.parameters = parameters_prime\n",
        "\n",
        "            # Evaluate model using strategy implementation\n",
        "            res_cen = self.strategy.evaluate(current_round, parameters=self.parameters)\n",
        "            if res_cen is not None:\n",
        "                loss_cen, metrics_cen = res_cen\n",
        "                log(\n",
        "                    INFO,\n",
        "                    \"fit progress: (%s, %s, %s, %s)\",\n",
        "                    current_round,\n",
        "                    loss_cen,\n",
        "                    metrics_cen,\n",
        "                    timeit.default_timer() - start_time,\n",
        "                )\n",
        "                history.add_loss_centralized(server_round=current_round, loss=loss_cen)\n",
        "                history.add_metrics_centralized(\n",
        "                    server_round=current_round, metrics=metrics_cen\n",
        "                )\n",
        "\n",
        "            # Evaluate model on a sample of available clients\n",
        "            res_fed = self.evaluate_round(server_round=current_round, timeout=timeout)\n",
        "            if res_fed:\n",
        "                loss_fed, evaluate_metrics_fed, _ = res_fed\n",
        "                if loss_fed:\n",
        "                    history.add_loss_distributed(\n",
        "                        server_round=current_round, loss=loss_fed\n",
        "                    )\n",
        "                    history.add_metrics_distributed(\n",
        "                        server_round=current_round, metrics=evaluate_metrics_fed\n",
        "                    )\n",
        "\n",
        "        # Bookkeeping\n",
        "        end_time = timeit.default_timer()\n",
        "        elapsed = end_time - start_time\n",
        "        log(INFO, \"FL finished in %s\", elapsed)\n",
        "        return history\n",
        "\n",
        "    def evaluate_round(\n",
        "        self,\n",
        "        server_round: int,\n",
        "        timeout: Optional[float],\n",
        "    ) -> Optional[\n",
        "        Tuple[Optional[float], Dict[str, Scalar], EvaluateResultsAndFailures]\n",
        "    ]:\n",
        "        \"\"\"Validate current global model on a number of clients.\"\"\"\n",
        "\n",
        "        # Get clients and their respective instructions from strategy\n",
        "        client_instructions = self.strategy.configure_evaluate(\n",
        "            server_round=server_round,\n",
        "            parameters=self.parameters,\n",
        "            client_manager=self._client_manager,\n",
        "        )\n",
        "        if not client_instructions:\n",
        "            log(INFO, \"evaluate_round %s: no clients selected, cancel\", server_round)\n",
        "            return None\n",
        "        log(\n",
        "            DEBUG,\n",
        "            \"evaluate_round %s: strategy sampled %s clients (out of %s)\",\n",
        "            server_round,\n",
        "            len(client_instructions),\n",
        "            self._client_manager.num_available(),\n",
        "        )\n",
        "\n",
        "        # Collect `evaluate` results from all clients participating in this round\n",
        "        results, failures = evaluate_clients(\n",
        "            client_instructions,\n",
        "            max_workers=self.max_workers,\n",
        "            timeout=timeout,\n",
        "        )\n",
        "        log(\n",
        "            DEBUG,\n",
        "            \"evaluate_round %s received %s results and %s failures\",\n",
        "            server_round,\n",
        "            len(results),\n",
        "            len(failures),\n",
        "        )\n",
        "\n",
        "        # Aggregate the evaluation results\n",
        "        aggregated_result: Tuple[\n",
        "            Optional[float],\n",
        "            Dict[str, Scalar],\n",
        "        ] = self.strategy.aggregate_evaluate(server_round, results, failures)\n",
        "\n",
        "        loss_aggregated, metrics_aggregated = aggregated_result\n",
        "        return loss_aggregated, metrics_aggregated, (results, failures)\n",
        "\n",
        "    def fit_round(\n",
        "        self,\n",
        "        server_round: int,\n",
        "        timeout: Optional[float],\n",
        "    ) -> Optional[\n",
        "        Tuple[\n",
        "            Optional[\n",
        "                Tuple[\n",
        "                    Parameters,\n",
        "                    Union[\n",
        "                        Tuple[XGBClassifier, int],\n",
        "                        Tuple[XGBRegressor, int],\n",
        "                        List[\n",
        "                            Union[Tuple[XGBClassifier, int], Tuple[XGBRegressor, int]]\n",
        "                        ],\n",
        "                    ],\n",
        "                ]\n",
        "            ],\n",
        "            Dict[str, Scalar],\n",
        "            FitResultsAndFailures,\n",
        "        ]\n",
        "    ]:\n",
        "        \"\"\"Perform a single round of federated averaging.\"\"\"\n",
        "\n",
        "        # Get clients and their respective instructions from strategy\n",
        "        client_instructions = self.strategy.configure_fit(\n",
        "            server_round=server_round,\n",
        "            parameters=self.parameters,\n",
        "            client_manager=self._client_manager,\n",
        "        )\n",
        "\n",
        "        if not client_instructions:\n",
        "            log(INFO, \"fit_round %s: no clients selected, cancel\", server_round)\n",
        "            return None\n",
        "        log(\n",
        "            DEBUG,\n",
        "            \"fit_round %s: strategy sampled %s clients (out of %s)\",\n",
        "            server_round,\n",
        "            len(client_instructions),\n",
        "            self._client_manager.num_available(),\n",
        "        )\n",
        "\n",
        "        # Collect `fit` results from all clients participating in this round\n",
        "        results, failures = fit_clients(\n",
        "            client_instructions=client_instructions,\n",
        "            max_workers=self.max_workers,\n",
        "            timeout=timeout,\n",
        "        )\n",
        "\n",
        "        log(\n",
        "            DEBUG,\n",
        "            \"fit_round %s received %s results and %s failures\",\n",
        "            server_round,\n",
        "            len(results),\n",
        "            len(failures),\n",
        "        )\n",
        "\n",
        "        # Aggregate training results\n",
        "        NN_aggregated: Parameters\n",
        "        trees_aggregated: Union[\n",
        "            Tuple[XGBClassifier, int],\n",
        "            Tuple[XGBRegressor, int],\n",
        "            List[Union[Tuple[XGBClassifier, int], Tuple[XGBRegressor, int]]],\n",
        "        ]\n",
        "        metrics_aggregated: Dict[str, Scalar]\n",
        "        aggregated, metrics_aggregated = self.strategy.aggregate_fit(\n",
        "            server_round, results, failures\n",
        "        )\n",
        "        NN_aggregated, trees_aggregated = aggregated[0], aggregated[1]\n",
        "\n",
        "        if type(trees_aggregated) is list:\n",
        "            print(\"Server side aggregated\", len(trees_aggregated), \"trees.\")\n",
        "        else:\n",
        "            print(\"Server side did not aggregate trees.\")\n",
        "\n",
        "        return (\n",
        "            [NN_aggregated, trees_aggregated],\n",
        "            metrics_aggregated,\n",
        "            (results, failures),\n",
        "        )\n",
        "\n",
        "    def _get_initial_parameters(\n",
        "        self, timeout: Optional[float]\n",
        "    ) -> Tuple[Parameters, Union[Tuple[XGBClassifier, int], Tuple[XGBRegressor, int]]]:\n",
        "        \"\"\"Get initial parameters from one of the available clients.\"\"\"\n",
        "\n",
        "        # Server-side parameter initialization\n",
        "        parameters: Optional[Parameters] = self.strategy.initialize_parameters(\n",
        "            client_manager=self._client_manager\n",
        "        )\n",
        "        if parameters is not None:\n",
        "            log(INFO, \"Using initial parameters provided by strategy\")\n",
        "            return parameters\n",
        "\n",
        "        # Get initial parameters from one of the clients\n",
        "        log(INFO, \"Requesting initial parameters from one random client\")\n",
        "        random_client = self._client_manager.sample(1)[0]\n",
        "        ins = GetParametersIns(config={})\n",
        "        get_parameters_res_tree = random_client.get_parameters(ins=ins, timeout=timeout)\n",
        "        parameters = [get_parameters_res_tree[0].parameters, get_parameters_res_tree[1]]\n",
        "        log(INFO, \"Received initial parameters from one random client\")\n",
        "\n",
        "        return parameters"
      ]
    },
    {
      "cell_type": "markdown",
      "metadata": {
        "id": "Hf_R1uB7TBQF"
      },
      "source": [
        "## Create server-side evaluation and experiment"
      ]
    },
    {
      "cell_type": "code",
      "execution_count": null,
      "metadata": {
        "id": "5a53nLoXTBQG"
      },
      "outputs": [],
      "source": [
        "def print_model_layers(model: nn.Module) -> None:\n",
        "    print(model)\n",
        "    for param_tensor in model.state_dict():\n",
        "        print(param_tensor, \"\\t\", model.state_dict()[param_tensor].size())\n",
        "\n",
        "\n",
        "def serverside_eval(\n",
        "    server_round: int,\n",
        "    parameters: Tuple[\n",
        "        Parameters,\n",
        "        Union[\n",
        "            Tuple[XGBClassifier, int],\n",
        "            Tuple[XGBRegressor, int],\n",
        "            List[Union[Tuple[XGBClassifier, int], Tuple[XGBRegressor, int]]],\n",
        "        ],\n",
        "    ],\n",
        "    config: Dict[str, Scalar],\n",
        "    task_type: str,\n",
        "    testloader: DataLoader,\n",
        "    batch_size: int,\n",
        "    client_tree_num: int,\n",
        "    client_num: int,\n",
        ") -> Tuple[float, Dict[str, float]]:\n",
        "    \"\"\"An evaluation function for centralized/serverside evaluation over the entire test set.\"\"\"\n",
        "    # device = torch.device(\"cuda:0\" if torch.cuda.is_available() else \"cpu\")\n",
        "    device = \"cpu\"\n",
        "    model = CNN()\n",
        "    # print_model_layers(model)\n",
        "\n",
        "    model.set_weights(parameters_to_ndarrays(parameters[0]))\n",
        "    model.to(device)\n",
        "\n",
        "    trees_aggregated = parameters[1]\n",
        "    testloader = tree_encoding_loader(\n",
        "        testloader, batch_size, trees_aggregated, client_tree_num, client_num\n",
        "    )\n",
        "    loss, result, _ = test(\n",
        "        task_type, model, testloader, device=device, log_progress=False\n",
        "    )\n",
        "\n",
        "    if task_type == \"BINARY\":\n",
        "        print(\n",
        "            f\"Evaluation on the server: test_loss={loss:.4f}, test_accuracy={result:.4f}\"\n",
        "        )\n",
        "        return loss, {\"accuracy\": result}\n",
        "    elif task_type == \"REG\":\n",
        "        print(f\"Evaluation on the server: test_loss={loss:.4f}, test_mse={result:.4f}\")\n",
        "        return loss, {\"mse\": result}\n",
        "\n",
        "\n",
        "def start_experiment(\n",
        "    task_type: str,\n",
        "    trainset: Dataset,\n",
        "    testset: Dataset,\n",
        "    num_rounds: int = 5,\n",
        "    client_tree_num: int = 50,\n",
        "    client_pool_size: int = 5,\n",
        "    num_iterations: int = 100,\n",
        "    fraction_fit: float = 1.0,\n",
        "    min_fit_clients: int = 2,\n",
        "    batch_size: int = 32,\n",
        "    val_ratio: float = 0.1,\n",
        ") -> History:\n",
        "    client_resources = {\"num_cpus\": 0.5}  # 2 clients per CPU\n",
        "\n",
        "    # Partition the dataset into subsets reserved for each client.\n",
        "    # - 'val_ratio' controls the proportion of the (local) client reserved as a local test set\n",
        "    # (good for testing how the final model performs on the client's local unseen data)\n",
        "    trainloaders, valloaders, testloader = do_fl_partitioning(\n",
        "        trainset,\n",
        "        testset,\n",
        "        batch_size=\"whole\",\n",
        "        pool_size=client_pool_size,\n",
        "        val_ratio=val_ratio,\n",
        "    )\n",
        "    print(\n",
        "        f\"Data partitioned across {client_pool_size} clients\"\n",
        "        f\" and {val_ratio} of local dataset reserved for validation.\"\n",
        "    )\n",
        "\n",
        "    # Configure the strategy\n",
        "    def fit_config(server_round: int) -> Dict[str, Scalar]:\n",
        "        print(f\"Configuring round {server_round}\")\n",
        "        return {\n",
        "            \"num_iterations\": num_iterations,\n",
        "            \"batch_size\": batch_size,\n",
        "        }\n",
        "\n",
        "    # FedXgbNnAvg\n",
        "    strategy = FedXgbNnAvg(\n",
        "        fraction_fit=fraction_fit,\n",
        "        fraction_evaluate=fraction_fit if val_ratio > 0.0 else 0.0,\n",
        "        min_fit_clients=min_fit_clients,\n",
        "        min_evaluate_clients=min_fit_clients,\n",
        "        min_available_clients=client_pool_size,  # all clients should be available\n",
        "        on_fit_config_fn=fit_config,\n",
        "        on_evaluate_config_fn=(lambda r: {\"batch_size\": batch_size}),\n",
        "        evaluate_fn=functools.partial(\n",
        "            serverside_eval,\n",
        "            task_type=task_type,\n",
        "            testloader=testloader,\n",
        "            batch_size=batch_size,\n",
        "            client_tree_num=client_tree_num,\n",
        "            client_num=client_num,\n",
        "        ),\n",
        "        accept_failures=False,\n",
        "    )\n",
        "\n",
        "    print(\n",
        "        f\"FL experiment configured for {num_rounds} rounds with {client_pool_size} client in the pool.\"\n",
        "    )\n",
        "    print(\n",
        "        f\"FL round will proceed with {fraction_fit * 100}% of clients sampled, at least {min_fit_clients}.\"\n",
        "    )\n",
        "\n",
        "    def client_fn(cid: str) -> fl.client.Client:\n",
        "        \"\"\"Creates a federated learning client\"\"\"\n",
        "        if val_ratio > 0.0 and val_ratio <= 1.0:\n",
        "            return FL_Client(\n",
        "                task_type,\n",
        "                trainloaders[int(cid)],\n",
        "                valloaders[int(cid)],\n",
        "                client_tree_num,\n",
        "                client_pool_size,\n",
        "                cid,\n",
        "                log_progress=False,\n",
        "            )\n",
        "        else:\n",
        "            return FL_Client(\n",
        "                task_type,\n",
        "                trainloaders[int(cid)],\n",
        "                None,\n",
        "                client_tree_num,\n",
        "                client_pool_size,\n",
        "                cid,\n",
        "                log_progress=False,\n",
        "            )\n",
        "\n",
        "    # Start the simulation\n",
        "    history = fl.simulation.start_simulation(\n",
        "        client_fn=client_fn,\n",
        "        server=FL_Server(client_manager=SimpleClientManager(), strategy=strategy),\n",
        "        num_clients=client_pool_size,\n",
        "        client_resources=client_resources,\n",
        "        config=ServerConfig(num_rounds=num_rounds),\n",
        "        strategy=strategy,\n",
        "    )\n",
        "\n",
        "    print(history)\n",
        "\n",
        "    return history"
      ]
    },
    {
      "cell_type": "markdown",
      "metadata": {
        "id": "9aaBkuGFTBQG"
      },
      "source": [
        "## Start federated training and inference\n",
        "#### High-level workflow:\n",
        "#### At round 1, each client first builds their own local XGBoost tree, and sends to the server. The server aggregates all trees and sends to all clients.\n",
        "#### After round 1, each client calculates every other client tree’s prediction results, and trains a convolutional neural network with 1D convolution kernel size == the number of XGBoost trees in the tree ensemble.\n",
        "#### The sharing of privacy-sensitive information is not needed, and the learning rate (a hyperparameter for XGBoost) is learnable using 1D convolution."
      ]
    },
    {
      "cell_type": "code",
      "execution_count": null,
      "metadata": {
        "colab": {
          "base_uri": "https://localhost:8080/"
        },
        "outputId": "be15ee57-91ac-4f47-9d70-8f41e1875f75",
        "id": "sHCGkCUITBQG"
      },
      "outputs": [
        {
          "metadata": {
            "tags": null
          },
          "name": "stderr",
          "output_type": "stream",
          "text": [
            "WARNING flwr 2023-10-29 04:30:58,827 | app.py:210 | Both server and strategy were provided, ignoring strategy\n",
            "WARNING:flwr:Both server and strategy were provided, ignoring strategy\n",
            "INFO flwr 2023-10-29 04:30:58,835 | app.py:178 | Starting Flower simulation, config: ServerConfig(num_rounds=20, round_timeout=None)\n",
            "INFO:flwr:Starting Flower simulation, config: ServerConfig(num_rounds=20, round_timeout=None)\n"
          ]
        },
        {
          "metadata": {
            "tags": null
          },
          "name": "stdout",
          "output_type": "stream",
          "text": [
            "Data partitioned across 2 clients and 0.0 of local dataset reserved for validation.\n",
            "FL experiment configured for 20 rounds with 2 client in the pool.\n",
            "FL round will proceed with 100.0% of clients sampled, at least 1.\n"
          ]
        },
        {
          "metadata": {
            "tags": null
          },
          "name": "stderr",
          "output_type": "stream",
          "text": [
            "2023-10-29 04:31:02,355\tINFO worker.py:1621 -- Started a local Ray instance.\n",
            "INFO flwr 2023-10-29 04:31:06,723 | app.py:213 | Flower VCE: Ray initialized with resources: {'CPU': 2.0, 'node:__internal_head__': 1.0, 'node:172.28.0.12': 1.0, 'object_store_memory': 3928412160.0, 'memory': 7856824320.0}\n",
            "INFO:flwr:Flower VCE: Ray initialized with resources: {'CPU': 2.0, 'node:__internal_head__': 1.0, 'node:172.28.0.12': 1.0, 'object_store_memory': 3928412160.0, 'memory': 7856824320.0}\n",
            "INFO flwr 2023-10-29 04:31:06,732 | app.py:219 | Optimize your simulation with Flower VCE: https://flower.dev/docs/framework/how-to-run-simulations.html\n",
            "INFO:flwr:Optimize your simulation with Flower VCE: https://flower.dev/docs/framework/how-to-run-simulations.html\n",
            "INFO flwr 2023-10-29 04:31:06,748 | app.py:242 | Flower VCE: Resources for each Virtual Client: {'num_cpus': 0.5}\n",
            "INFO:flwr:Flower VCE: Resources for each Virtual Client: {'num_cpus': 0.5}\n",
            "INFO flwr 2023-10-29 04:31:06,835 | app.py:288 | Flower VCE: Creating VirtualClientEngineActorPool with 4 actors\n",
            "INFO:flwr:Flower VCE: Creating VirtualClientEngineActorPool with 4 actors\n",
            "INFO flwr 2023-10-29 04:31:06,840 | <ipython-input-15-568c4ad0345a>:20 | Initializing global parameters\n",
            "INFO:flwr:Initializing global parameters\n",
            "INFO flwr 2023-10-29 04:31:06,844 | <ipython-input-15-568c4ad0345a>:226 | Requesting initial parameters from one random client\n",
            "INFO:flwr:Requesting initial parameters from one random client\n",
            "\u001b[2m\u001b[36m(pid=1234)\u001b[0m 2023-10-29 04:31:11.594578: E tensorflow/compiler/xla/stream_executor/cuda/cuda_dnn.cc:9342] Unable to register cuDNN factory: Attempting to register factory for plugin cuDNN when one has already been registered\n",
            "\u001b[2m\u001b[36m(pid=1234)\u001b[0m 2023-10-29 04:31:11.594694: E tensorflow/compiler/xla/stream_executor/cuda/cuda_fft.cc:609] Unable to register cuFFT factory: Attempting to register factory for plugin cuFFT when one has already been registered\n",
            "\u001b[2m\u001b[36m(pid=1234)\u001b[0m 2023-10-29 04:31:11.594735: E tensorflow/compiler/xla/stream_executor/cuda/cuda_blas.cc:1518] Unable to register cuBLAS factory: Attempting to register factory for plugin cuBLAS when one has already been registered\n",
            "\u001b[2m\u001b[36m(pid=1234)\u001b[0m 2023-10-29 04:31:16.183698: W tensorflow/compiler/tf2tensorrt/utils/py_utils.cc:38] TF-TRT Warning: Could not find TensorRT\n",
            "\u001b[2m\u001b[36m(DefaultActor pid=1295)\u001b[0m /usr/local/lib/python3.10/dist-packages/torchmetrics/utilities/imports.py:24: DeprecationWarning: distutils Version classes are deprecated. Use packaging.version instead.\n",
            "\u001b[2m\u001b[36m(DefaultActor pid=1295)\u001b[0m   _PYTHON_LOWER_3_8 = LooseVersion(_PYTHON_VERSION) < LooseVersion(\"3.8\")\n",
            "\u001b[2m\u001b[36m(pid=1295)\u001b[0m 2023-10-29 04:31:11.882700: E tensorflow/compiler/xla/stream_executor/cuda/cuda_dnn.cc:9342] Unable to register cuDNN factory: Attempting to register factory for plugin cuDNN when one has already been registered\u001b[32m [repeated 3x across cluster] (Ray deduplicates logs by default. Set RAY_DEDUP_LOGS=0 to disable log deduplication, or see https://docs.ray.io/en/master/ray-observability/ray-logging.html#log-deduplication for more options.)\u001b[0m\n",
            "\u001b[2m\u001b[36m(pid=1295)\u001b[0m 2023-10-29 04:31:11.882758: E tensorflow/compiler/xla/stream_executor/cuda/cuda_fft.cc:609] Unable to register cuFFT factory: Attempting to register factory for plugin cuFFT when one has already been registered\u001b[32m [repeated 3x across cluster]\u001b[0m\n",
            "\u001b[2m\u001b[36m(pid=1295)\u001b[0m 2023-10-29 04:31:11.882794: E tensorflow/compiler/xla/stream_executor/cuda/cuda_blas.cc:1518] Unable to register cuBLAS factory: Attempting to register factory for plugin cuBLAS when one has already been registered\u001b[32m [repeated 3x across cluster]\u001b[0m\n",
            "\u001b[2m\u001b[36m(pid=1233)\u001b[0m 2023-10-29 04:31:16.260221: W tensorflow/compiler/tf2tensorrt/utils/py_utils.cc:38] TF-TRT Warning: Could not find TensorRT\u001b[32m [repeated 3x across cluster]\u001b[0m\n",
            "\u001b[2m\u001b[36m(DefaultActor pid=1295)\u001b[0m /usr/local/lib/python3.10/dist-packages/torch/utils/data/_utils/collate.py:171: UserWarning: The given NumPy array is not writable, and PyTorch does not support non-writable tensors. This means writing to this tensor will result in undefined behavior. You may want to copy the array to protect its data or make it writable before converting it to a tensor. This type of warning will be suppressed for the rest of this program. (Triggered internally at ../torch/csrc/utils/tensor_numpy.cpp:206.)\n",
            "\u001b[2m\u001b[36m(DefaultActor pid=1295)\u001b[0m   return collate([torch.as_tensor(b) for b in batch], collate_fn_map=collate_fn_map)\n",
            "INFO flwr 2023-10-29 04:31:33,033 | <ipython-input-15-568c4ad0345a>:231 | Received initial parameters from one random client\n",
            "INFO:flwr:Received initial parameters from one random client\n",
            "INFO flwr 2023-10-29 04:31:33,045 | <ipython-input-15-568c4ad0345a>:23 | Evaluating initial parameters\n",
            "INFO:flwr:Evaluating initial parameters\n",
            "INFO flwr 2023-10-29 04:32:51,605 | <ipython-input-15-568c4ad0345a>:26 | initial parameters (loss, other metrics): 0.010716692314364961, {'accuracy': tensor(0.8473)}\n",
            "INFO:flwr:initial parameters (loss, other metrics): 0.010716692314364961, {'accuracy': tensor(0.8473)}\n",
            "INFO flwr 2023-10-29 04:32:51,621 | <ipython-input-15-568c4ad0345a>:36 | FL starting\n",
            "INFO:flwr:FL starting\n",
            "DEBUG flwr 2023-10-29 04:32:51,628 | <ipython-input-15-568c4ad0345a>:165 | fit_round 1: strategy sampled 2 clients (out of 2)\n",
            "DEBUG:flwr:fit_round 1: strategy sampled 2 clients (out of 2)\n"
          ]
        },
        {
          "metadata": {
            "tags": null
          },
          "name": "stdout",
          "output_type": "stream",
          "text": [
            "Evaluation on the server: test_loss=0.0107, test_accuracy=0.8473\n",
            "Configuring round 1\n"
          ]
        },
        {
          "metadata": {
            "tags": null
          },
          "name": "stderr",
          "output_type": "stream",
          "text": [
            "\u001b[2m\u001b[36m(DefaultActor pid=1290)\u001b[0m /usr/local/lib/python3.10/dist-packages/torchmetrics/utilities/imports.py:24: DeprecationWarning: distutils Version classes are deprecated. Use packaging.version instead.\n",
            "\u001b[2m\u001b[36m(DefaultActor pid=1290)\u001b[0m   _PYTHON_LOWER_3_8 = LooseVersion(_PYTHON_VERSION) < LooseVersion(\"3.8\")\n",
            "\u001b[2m\u001b[36m(DefaultActor pid=1290)\u001b[0m /usr/local/lib/python3.10/dist-packages/torch/utils/data/_utils/collate.py:171: UserWarning: The given NumPy array is not writable, and PyTorch does not support non-writable tensors. This means writing to this tensor will result in undefined behavior. You may want to copy the array to protect its data or make it writable before converting it to a tensor. This type of warning will be suppressed for the rest of this program. (Triggered internally at ../torch/csrc/utils/tensor_numpy.cpp:206.)\n",
            "\u001b[2m\u001b[36m(DefaultActor pid=1290)\u001b[0m   return collate([torch.as_tensor(b) for b in batch], collate_fn_map=collate_fn_map)\n"
          ]
        },
        {
          "metadata": {
            "tags": null
          },
          "name": "stdout",
          "output_type": "stream",
          "text": [
            "\u001b[2m\u001b[36m(DefaultActor pid=1295)\u001b[0m Client 1: only had its own tree\n",
            "\u001b[2m\u001b[36m(DefaultActor pid=1290)\u001b[0m Client 0: only had its own tree\n",
            "\u001b[2m\u001b[36m(DefaultActor pid=1295)\u001b[0m Client 1: training for 100 iterations/updates\n",
            "\u001b[2m\u001b[36m(DefaultActor pid=1295)\u001b[0m Client 1: training round complete, 6400 examples processed\n"
          ]
        },
        {
          "metadata": {
            "tags": null
          },
          "name": "stderr",
          "output_type": "stream",
          "text": [
            "DEBUG flwr 2023-10-29 04:34:49,518 | <ipython-input-15-568c4ad0345a>:180 | fit_round 1 received 2 results and 0 failures\n",
            "DEBUG:flwr:fit_round 1 received 2 results and 0 failures\n",
            "WARNING flwr 2023-10-29 04:34:49,527 | fedxgb_nn_avg.py:88 | No fit_metrics_aggregation_fn provided\n",
            "WARNING:flwr:No fit_metrics_aggregation_fn provided\n"
          ]
        },
        {
          "metadata": {
            "tags": null
          },
          "name": "stdout",
          "output_type": "stream",
          "text": [
            "Server side aggregated 2 trees.\n"
          ]
        },
        {
          "metadata": {
            "tags": null
          },
          "name": "stderr",
          "output_type": "stream",
          "text": [
            "INFO flwr 2023-10-29 04:36:05,128 | <ipython-input-15-568c4ad0345a>:51 | fit progress: (1, 0.009080865911813634, {'accuracy': tensor(0.6667)}, 193.50059252500006)\n",
            "INFO:flwr:fit progress: (1, 0.009080865911813634, {'accuracy': tensor(0.6667)}, 193.50059252500006)\n",
            "INFO flwr 2023-10-29 04:36:05,138 | <ipython-input-15-568c4ad0345a>:98 | evaluate_round 1: no clients selected, cancel\n",
            "INFO:flwr:evaluate_round 1: no clients selected, cancel\n",
            "DEBUG flwr 2023-10-29 04:36:05,146 | <ipython-input-15-568c4ad0345a>:165 | fit_round 2: strategy sampled 2 clients (out of 2)\n",
            "DEBUG:flwr:fit_round 2: strategy sampled 2 clients (out of 2)\n"
          ]
        },
        {
          "metadata": {
            "tags": null
          },
          "name": "stdout",
          "output_type": "stream",
          "text": [
            "Evaluation on the server: test_loss=0.0091, test_accuracy=0.6667\n",
            "Configuring round 2\n",
            "\u001b[2m\u001b[36m(DefaultActor pid=1295)\u001b[0m Client 1: received 2 trees\n",
            "\u001b[2m\u001b[36m(DefaultActor pid=1290)\u001b[0m Client 0: training for 100 iterations/updates\n",
            "\u001b[2m\u001b[36m(DefaultActor pid=1290)\u001b[0m Client 0: training round complete, 6400 examples processed\n",
            "\u001b[2m\u001b[36m(DefaultActor pid=1295)\u001b[0m Client 1: training for 100 iterations/updates\n",
            "\u001b[2m\u001b[36m(DefaultActor pid=1290)\u001b[0m Client 0: received 2 trees\n",
            "\u001b[2m\u001b[36m(DefaultActor pid=1295)\u001b[0m Client 1: training round complete, 6400 examples processed\n"
          ]
        },
        {
          "metadata": {
            "tags": null
          },
          "name": "stderr",
          "output_type": "stream",
          "text": [
            "DEBUG flwr 2023-10-29 04:37:55,863 | <ipython-input-15-568c4ad0345a>:180 | fit_round 2 received 2 results and 0 failures\n",
            "DEBUG:flwr:fit_round 2 received 2 results and 0 failures\n"
          ]
        },
        {
          "metadata": {
            "tags": null
          },
          "name": "stdout",
          "output_type": "stream",
          "text": [
            "Server side aggregated 2 trees.\n"
          ]
        },
        {
          "metadata": {
            "tags": null
          },
          "name": "stderr",
          "output_type": "stream",
          "text": [
            "INFO flwr 2023-10-29 04:39:10,239 | <ipython-input-15-568c4ad0345a>:51 | fit progress: (2, 0.008359071660882263, {'accuracy': tensor(0.6667)}, 378.611500659)\n",
            "INFO:flwr:fit progress: (2, 0.008359071660882263, {'accuracy': tensor(0.6667)}, 378.611500659)\n",
            "INFO flwr 2023-10-29 04:39:10,246 | <ipython-input-15-568c4ad0345a>:98 | evaluate_round 2: no clients selected, cancel\n",
            "INFO:flwr:evaluate_round 2: no clients selected, cancel\n",
            "DEBUG flwr 2023-10-29 04:39:10,253 | <ipython-input-15-568c4ad0345a>:165 | fit_round 3: strategy sampled 2 clients (out of 2)\n",
            "DEBUG:flwr:fit_round 3: strategy sampled 2 clients (out of 2)\n"
          ]
        },
        {
          "metadata": {
            "tags": null
          },
          "name": "stdout",
          "output_type": "stream",
          "text": [
            "Evaluation on the server: test_loss=0.0084, test_accuracy=0.6667\n",
            "Configuring round 3\n",
            "\u001b[2m\u001b[36m(DefaultActor pid=1290)\u001b[0m Client 1: received 2 trees\n",
            "\u001b[2m\u001b[36m(DefaultActor pid=1290)\u001b[0m Client 0: training for 100 iterations/updates\n",
            "\u001b[2m\u001b[36m(DefaultActor pid=1290)\u001b[0m Client 0: training round complete, 6400 examples processed\n",
            "\u001b[2m\u001b[36m(DefaultActor pid=1290)\u001b[0m Client 1: training for 100 iterations/updates\n",
            "\u001b[2m\u001b[36m(DefaultActor pid=1295)\u001b[0m Client 0: received 2 trees\n",
            "\u001b[2m\u001b[36m(DefaultActor pid=1290)\u001b[0m Client 1: training round complete, 6400 examples processed\n"
          ]
        },
        {
          "metadata": {
            "tags": null
          },
          "name": "stderr",
          "output_type": "stream",
          "text": [
            "DEBUG flwr 2023-10-29 04:40:59,211 | <ipython-input-15-568c4ad0345a>:180 | fit_round 3 received 2 results and 0 failures\n",
            "DEBUG:flwr:fit_round 3 received 2 results and 0 failures\n"
          ]
        },
        {
          "metadata": {
            "tags": null
          },
          "name": "stdout",
          "output_type": "stream",
          "text": [
            "Server side aggregated 2 trees.\n"
          ]
        },
        {
          "metadata": {
            "tags": null
          },
          "name": "stderr",
          "output_type": "stream",
          "text": [
            "INFO flwr 2023-10-29 04:42:15,563 | <ipython-input-15-568c4ad0345a>:51 | fit progress: (3, 0.0075889946694006425, {'accuracy': tensor(0.6667)}, 563.9351207770001)\n",
            "INFO:flwr:fit progress: (3, 0.0075889946694006425, {'accuracy': tensor(0.6667)}, 563.9351207770001)\n",
            "INFO flwr 2023-10-29 04:42:15,569 | <ipython-input-15-568c4ad0345a>:98 | evaluate_round 3: no clients selected, cancel\n",
            "INFO:flwr:evaluate_round 3: no clients selected, cancel\n",
            "DEBUG flwr 2023-10-29 04:42:15,588 | <ipython-input-15-568c4ad0345a>:165 | fit_round 4: strategy sampled 2 clients (out of 2)\n",
            "DEBUG:flwr:fit_round 4: strategy sampled 2 clients (out of 2)\n"
          ]
        },
        {
          "metadata": {
            "tags": null
          },
          "name": "stdout",
          "output_type": "stream",
          "text": [
            "Evaluation on the server: test_loss=0.0076, test_accuracy=0.6667\n",
            "Configuring round 4\n",
            "\u001b[2m\u001b[36m(DefaultActor pid=1295)\u001b[0m Client 1: received 2 trees\n",
            "\u001b[2m\u001b[36m(DefaultActor pid=1295)\u001b[0m Client 0: training for 100 iterations/updates\n",
            "\u001b[2m\u001b[36m(DefaultActor pid=1295)\u001b[0m Client 0: training round complete, 6400 examples processed\n",
            "\u001b[2m\u001b[36m(DefaultActor pid=1295)\u001b[0m Client 1: training for 100 iterations/updates\n",
            "\u001b[2m\u001b[36m(DefaultActor pid=1290)\u001b[0m Client 0: received 2 trees\n"
          ]
        },
        {
          "metadata": {
            "tags": null
          },
          "name": "stderr",
          "output_type": "stream",
          "text": [
            "DEBUG flwr 2023-10-29 04:44:04,041 | <ipython-input-15-568c4ad0345a>:180 | fit_round 4 received 2 results and 0 failures\n",
            "DEBUG:flwr:fit_round 4 received 2 results and 0 failures\n"
          ]
        },
        {
          "metadata": {
            "tags": null
          },
          "name": "stdout",
          "output_type": "stream",
          "text": [
            "\u001b[2m\u001b[36m(DefaultActor pid=1295)\u001b[0m Client 1: training round complete, 6400 examples processed\n",
            "Server side aggregated 2 trees.\n"
          ]
        },
        {
          "metadata": {
            "tags": null
          },
          "name": "stderr",
          "output_type": "stream",
          "text": [
            "INFO flwr 2023-10-29 04:45:18,888 | <ipython-input-15-568c4ad0345a>:51 | fit progress: (4, 0.006763193845017347, {'accuracy': tensor(0.8139)}, 747.2603598379999)\n",
            "INFO:flwr:fit progress: (4, 0.006763193845017347, {'accuracy': tensor(0.8139)}, 747.2603598379999)\n",
            "INFO flwr 2023-10-29 04:45:18,895 | <ipython-input-15-568c4ad0345a>:98 | evaluate_round 4: no clients selected, cancel\n",
            "INFO:flwr:evaluate_round 4: no clients selected, cancel\n",
            "DEBUG flwr 2023-10-29 04:45:18,903 | <ipython-input-15-568c4ad0345a>:165 | fit_round 5: strategy sampled 2 clients (out of 2)\n",
            "DEBUG:flwr:fit_round 5: strategy sampled 2 clients (out of 2)\n"
          ]
        },
        {
          "metadata": {
            "tags": null
          },
          "name": "stdout",
          "output_type": "stream",
          "text": [
            "Evaluation on the server: test_loss=0.0068, test_accuracy=0.8139\n",
            "Configuring round 5\n",
            "\u001b[2m\u001b[36m(DefaultActor pid=1290)\u001b[0m Client 0: received 2 trees\n",
            "\u001b[2m\u001b[36m(DefaultActor pid=1290)\u001b[0m Client 0: training for 100 iterations/updates\n",
            "\u001b[2m\u001b[36m(DefaultActor pid=1290)\u001b[0m Client 0: training round complete, 6400 examples processed\n",
            "\u001b[2m\u001b[36m(DefaultActor pid=1290)\u001b[0m Client 0: training for 100 iterations/updates\n",
            "\u001b[2m\u001b[36m(DefaultActor pid=1295)\u001b[0m Client 1: received 2 trees\n",
            "\u001b[2m\u001b[36m(DefaultActor pid=1290)\u001b[0m Client 0: training round complete, 6400 examples processed\n"
          ]
        },
        {
          "metadata": {
            "tags": null
          },
          "name": "stderr",
          "output_type": "stream",
          "text": [
            "DEBUG flwr 2023-10-29 04:47:22,716 | <ipython-input-15-568c4ad0345a>:180 | fit_round 5 received 2 results and 0 failures\n",
            "DEBUG:flwr:fit_round 5 received 2 results and 0 failures\n"
          ]
        },
        {
          "metadata": {
            "tags": null
          },
          "name": "stdout",
          "output_type": "stream",
          "text": [
            "Server side aggregated 2 trees.\n"
          ]
        },
        {
          "metadata": {
            "tags": null
          },
          "name": "stderr",
          "output_type": "stream",
          "text": [
            "INFO flwr 2023-10-29 04:48:36,628 | <ipython-input-15-568c4ad0345a>:51 | fit progress: (5, 0.0060245180473365925, {'accuracy': tensor(0.9411)}, 945.000811396)\n",
            "INFO:flwr:fit progress: (5, 0.0060245180473365925, {'accuracy': tensor(0.9411)}, 945.000811396)\n",
            "INFO flwr 2023-10-29 04:48:36,637 | <ipython-input-15-568c4ad0345a>:98 | evaluate_round 5: no clients selected, cancel\n",
            "INFO:flwr:evaluate_round 5: no clients selected, cancel\n",
            "DEBUG flwr 2023-10-29 04:48:36,645 | <ipython-input-15-568c4ad0345a>:165 | fit_round 6: strategy sampled 2 clients (out of 2)\n",
            "DEBUG:flwr:fit_round 6: strategy sampled 2 clients (out of 2)\n"
          ]
        },
        {
          "metadata": {
            "tags": null
          },
          "name": "stdout",
          "output_type": "stream",
          "text": [
            "Evaluation on the server: test_loss=0.0060, test_accuracy=0.9411\n",
            "Configuring round 6\n",
            "\u001b[2m\u001b[36m(DefaultActor pid=1295)\u001b[0m Client 1: received 2 trees\n",
            "\u001b[2m\u001b[36m(DefaultActor pid=1295)\u001b[0m Client 1: training for 100 iterations/updates\n",
            "\u001b[2m\u001b[36m(DefaultActor pid=1295)\u001b[0m Client 1: training round complete, 6400 examples processed\n",
            "\u001b[2m\u001b[36m(DefaultActor pid=1290)\u001b[0m Client 0: training for 100 iterations/updates\n",
            "\u001b[2m\u001b[36m(DefaultActor pid=1290)\u001b[0m Client 0: received 2 trees\n",
            "\u001b[2m\u001b[36m(DefaultActor pid=1290)\u001b[0m Client 0: training round complete, 6400 examples processed\n"
          ]
        },
        {
          "metadata": {
            "tags": null
          },
          "name": "stderr",
          "output_type": "stream",
          "text": [
            "DEBUG flwr 2023-10-29 04:50:26,103 | <ipython-input-15-568c4ad0345a>:180 | fit_round 6 received 2 results and 0 failures\n",
            "DEBUG:flwr:fit_round 6 received 2 results and 0 failures\n"
          ]
        },
        {
          "metadata": {
            "tags": null
          },
          "name": "stdout",
          "output_type": "stream",
          "text": [
            "Server side aggregated 2 trees.\n"
          ]
        },
        {
          "metadata": {
            "tags": null
          },
          "name": "stderr",
          "output_type": "stream",
          "text": [
            "INFO flwr 2023-10-29 04:51:39,180 | <ipython-input-15-568c4ad0345a>:51 | fit progress: (6, 0.00525172293204363, {'accuracy': tensor(0.9382)}, 1127.552804282)\n",
            "INFO:flwr:fit progress: (6, 0.00525172293204363, {'accuracy': tensor(0.9382)}, 1127.552804282)\n",
            "INFO flwr 2023-10-29 04:51:39,186 | <ipython-input-15-568c4ad0345a>:98 | evaluate_round 6: no clients selected, cancel\n",
            "INFO:flwr:evaluate_round 6: no clients selected, cancel\n",
            "DEBUG flwr 2023-10-29 04:51:39,189 | <ipython-input-15-568c4ad0345a>:165 | fit_round 7: strategy sampled 2 clients (out of 2)\n",
            "DEBUG:flwr:fit_round 7: strategy sampled 2 clients (out of 2)\n"
          ]
        },
        {
          "metadata": {
            "tags": null
          },
          "name": "stdout",
          "output_type": "stream",
          "text": [
            "Evaluation on the server: test_loss=0.0053, test_accuracy=0.9382\n",
            "Configuring round 7\n",
            "\u001b[2m\u001b[36m(DefaultActor pid=1295)\u001b[0m Client 1: received 2 trees\n",
            "\u001b[2m\u001b[36m(DefaultActor pid=1295)\u001b[0m Client 1: training for 100 iterations/updates\n",
            "\u001b[2m\u001b[36m(DefaultActor pid=1295)\u001b[0m Client 1: training round complete, 6400 examples processed\n",
            "\u001b[2m\u001b[36m(DefaultActor pid=1290)\u001b[0m Client 0: training for 100 iterations/updates\n",
            "\u001b[2m\u001b[36m(DefaultActor pid=1290)\u001b[0m Client 0: received 2 trees\n",
            "\u001b[2m\u001b[36m(DefaultActor pid=1290)\u001b[0m Client 0: training round complete, 6400 examples processed\n"
          ]
        },
        {
          "metadata": {
            "tags": null
          },
          "name": "stderr",
          "output_type": "stream",
          "text": [
            "DEBUG flwr 2023-10-29 04:53:29,939 | <ipython-input-15-568c4ad0345a>:180 | fit_round 7 received 2 results and 0 failures\n",
            "DEBUG:flwr:fit_round 7 received 2 results and 0 failures\n"
          ]
        },
        {
          "metadata": {
            "tags": null
          },
          "name": "stdout",
          "output_type": "stream",
          "text": [
            "Server side aggregated 2 trees.\n"
          ]
        },
        {
          "metadata": {
            "tags": null
          },
          "name": "stderr",
          "output_type": "stream",
          "text": [
            "INFO flwr 2023-10-29 04:54:43,593 | <ipython-input-15-568c4ad0345a>:51 | fit progress: (7, 0.004566967062677717, {'accuracy': tensor(0.9532)}, 1311.965424975)\n",
            "INFO:flwr:fit progress: (7, 0.004566967062677717, {'accuracy': tensor(0.9532)}, 1311.965424975)\n",
            "INFO flwr 2023-10-29 04:54:43,602 | <ipython-input-15-568c4ad0345a>:98 | evaluate_round 7: no clients selected, cancel\n",
            "INFO:flwr:evaluate_round 7: no clients selected, cancel\n",
            "DEBUG flwr 2023-10-29 04:54:43,606 | <ipython-input-15-568c4ad0345a>:165 | fit_round 8: strategy sampled 2 clients (out of 2)\n",
            "DEBUG:flwr:fit_round 8: strategy sampled 2 clients (out of 2)\n"
          ]
        },
        {
          "metadata": {
            "tags": null
          },
          "name": "stdout",
          "output_type": "stream",
          "text": [
            "Evaluation on the server: test_loss=0.0046, test_accuracy=0.9532\n",
            "Configuring round 8\n",
            "\u001b[2m\u001b[36m(DefaultActor pid=1295)\u001b[0m Client 1: received 2 trees\n",
            "\u001b[2m\u001b[36m(DefaultActor pid=1295)\u001b[0m Client 1: training for 100 iterations/updates\n",
            "\u001b[2m\u001b[36m(DefaultActor pid=1295)\u001b[0m Client 1: training round complete, 6400 examples processed\n",
            "\u001b[2m\u001b[36m(DefaultActor pid=1295)\u001b[0m Client 1: training for 100 iterations/updates\n",
            "\u001b[2m\u001b[36m(DefaultActor pid=1290)\u001b[0m Client 0: received 2 trees\n"
          ]
        },
        {
          "metadata": {
            "tags": null
          },
          "name": "stderr",
          "output_type": "stream",
          "text": [
            "DEBUG flwr 2023-10-29 04:56:34,803 | <ipython-input-15-568c4ad0345a>:180 | fit_round 8 received 2 results and 0 failures\n",
            "DEBUG:flwr:fit_round 8 received 2 results and 0 failures\n"
          ]
        },
        {
          "metadata": {
            "tags": null
          },
          "name": "stdout",
          "output_type": "stream",
          "text": [
            "\u001b[2m\u001b[36m(DefaultActor pid=1295)\u001b[0m Client 1: training round complete, 6400 examples processed\n",
            "Server side aggregated 2 trees.\n"
          ]
        },
        {
          "metadata": {
            "tags": null
          },
          "name": "stderr",
          "output_type": "stream",
          "text": [
            "INFO flwr 2023-10-29 04:57:51,809 | <ipython-input-15-568c4ad0345a>:51 | fit progress: (8, 0.003970743491336437, {'accuracy': tensor(0.9534)}, 1500.181806478)\n",
            "INFO:flwr:fit progress: (8, 0.003970743491336437, {'accuracy': tensor(0.9534)}, 1500.181806478)\n",
            "INFO flwr 2023-10-29 04:57:51,815 | <ipython-input-15-568c4ad0345a>:98 | evaluate_round 8: no clients selected, cancel\n",
            "INFO:flwr:evaluate_round 8: no clients selected, cancel\n",
            "DEBUG flwr 2023-10-29 04:57:51,820 | <ipython-input-15-568c4ad0345a>:165 | fit_round 9: strategy sampled 2 clients (out of 2)\n",
            "DEBUG:flwr:fit_round 9: strategy sampled 2 clients (out of 2)\n"
          ]
        },
        {
          "metadata": {
            "tags": null
          },
          "name": "stdout",
          "output_type": "stream",
          "text": [
            "Evaluation on the server: test_loss=0.0040, test_accuracy=0.9534\n",
            "Configuring round 9\n",
            "\u001b[2m\u001b[36m(DefaultActor pid=1290)\u001b[0m Client 0: received 2 trees\n",
            "\u001b[2m\u001b[36m(DefaultActor pid=1290)\u001b[0m Client 0: training for 100 iterations/updates\n",
            "\u001b[2m\u001b[36m(DefaultActor pid=1290)\u001b[0m Client 0: training round complete, 6400 examples processed\n",
            "\u001b[2m\u001b[36m(DefaultActor pid=1290)\u001b[0m Client 0: training for 100 iterations/updates\n",
            "\u001b[2m\u001b[36m(DefaultActor pid=1295)\u001b[0m Client 1: received 2 trees\n"
          ]
        },
        {
          "metadata": {
            "tags": null
          },
          "name": "stderr",
          "output_type": "stream",
          "text": [
            "DEBUG flwr 2023-10-29 04:59:40,938 | <ipython-input-15-568c4ad0345a>:180 | fit_round 9 received 2 results and 0 failures\n",
            "DEBUG:flwr:fit_round 9 received 2 results and 0 failures\n"
          ]
        },
        {
          "metadata": {
            "tags": null
          },
          "name": "stdout",
          "output_type": "stream",
          "text": [
            "\u001b[2m\u001b[36m(DefaultActor pid=1295)\u001b[0m Client 1: training round complete, 6400 examples processed\n",
            "Server side aggregated 2 trees.\n"
          ]
        },
        {
          "metadata": {
            "tags": null
          },
          "name": "stderr",
          "output_type": "stream",
          "text": [
            "INFO flwr 2023-10-29 05:00:55,071 | <ipython-input-15-568c4ad0345a>:51 | fit progress: (9, 0.003469869114272217, {'accuracy': tensor(0.9554)}, 1683.443525079)\n",
            "INFO:flwr:fit progress: (9, 0.003469869114272217, {'accuracy': tensor(0.9554)}, 1683.443525079)\n",
            "INFO flwr 2023-10-29 05:00:55,077 | <ipython-input-15-568c4ad0345a>:98 | evaluate_round 9: no clients selected, cancel\n",
            "INFO:flwr:evaluate_round 9: no clients selected, cancel\n",
            "DEBUG flwr 2023-10-29 05:00:55,082 | <ipython-input-15-568c4ad0345a>:165 | fit_round 10: strategy sampled 2 clients (out of 2)\n",
            "DEBUG:flwr:fit_round 10: strategy sampled 2 clients (out of 2)\n"
          ]
        },
        {
          "metadata": {
            "tags": null
          },
          "name": "stdout",
          "output_type": "stream",
          "text": [
            "Evaluation on the server: test_loss=0.0035, test_accuracy=0.9554\n",
            "Configuring round 10\n",
            "\u001b[2m\u001b[36m(DefaultActor pid=1295)\u001b[0m Client 0: received 2 trees\n",
            "\u001b[2m\u001b[36m(DefaultActor pid=1295)\u001b[0m Client 1: training for 100 iterations/updates\n",
            "\u001b[2m\u001b[36m(DefaultActor pid=1290)\u001b[0m Client 0: training round complete, 6400 examples processed\n",
            "\u001b[2m\u001b[36m(DefaultActor pid=1290)\u001b[0m Client 1: training for 100 iterations/updates\n",
            "\u001b[2m\u001b[36m(DefaultActor pid=1290)\u001b[0m Client 1: received 2 trees\n",
            "\u001b[2m\u001b[36m(DefaultActor pid=1290)\u001b[0m Client 1: training round complete, 6400 examples processed\n"
          ]
        },
        {
          "metadata": {
            "tags": null
          },
          "name": "stderr",
          "output_type": "stream",
          "text": [
            "DEBUG flwr 2023-10-29 05:02:44,194 | <ipython-input-15-568c4ad0345a>:180 | fit_round 10 received 2 results and 0 failures\n",
            "DEBUG:flwr:fit_round 10 received 2 results and 0 failures\n"
          ]
        },
        {
          "metadata": {
            "tags": null
          },
          "name": "stdout",
          "output_type": "stream",
          "text": [
            "Server side aggregated 2 trees.\n"
          ]
        },
        {
          "metadata": {
            "tags": null
          },
          "name": "stderr",
          "output_type": "stream",
          "text": [
            "INFO flwr 2023-10-29 05:03:58,450 | <ipython-input-15-568c4ad0345a>:51 | fit progress: (10, 0.003040573830466739, {'accuracy': tensor(0.9577)}, 1866.822594296)\n",
            "INFO:flwr:fit progress: (10, 0.003040573830466739, {'accuracy': tensor(0.9577)}, 1866.822594296)\n",
            "INFO flwr 2023-10-29 05:03:58,455 | <ipython-input-15-568c4ad0345a>:98 | evaluate_round 10: no clients selected, cancel\n",
            "INFO:flwr:evaluate_round 10: no clients selected, cancel\n",
            "DEBUG flwr 2023-10-29 05:03:58,459 | <ipython-input-15-568c4ad0345a>:165 | fit_round 11: strategy sampled 2 clients (out of 2)\n",
            "DEBUG:flwr:fit_round 11: strategy sampled 2 clients (out of 2)\n"
          ]
        },
        {
          "metadata": {
            "tags": null
          },
          "name": "stdout",
          "output_type": "stream",
          "text": [
            "Evaluation on the server: test_loss=0.0030, test_accuracy=0.9577\n",
            "Configuring round 11\n",
            "\u001b[2m\u001b[36m(DefaultActor pid=1295)\u001b[0m Client 0: received 2 trees\n",
            "\u001b[2m\u001b[36m(DefaultActor pid=1295)\u001b[0m Client 0: training for 100 iterations/updates\n",
            "\u001b[2m\u001b[36m(DefaultActor pid=1295)\u001b[0m Client 0: training round complete, 6400 examples processed\n",
            "\u001b[2m\u001b[36m(DefaultActor pid=1295)\u001b[0m Client 0: training for 100 iterations/updates\n",
            "\u001b[2m\u001b[36m(DefaultActor pid=1290)\u001b[0m Client 1: received 2 trees\n",
            "\u001b[2m\u001b[36m(DefaultActor pid=1295)\u001b[0m Client 0: training round complete, 6400 examples processed\n"
          ]
        },
        {
          "metadata": {
            "tags": null
          },
          "name": "stderr",
          "output_type": "stream",
          "text": [
            "DEBUG flwr 2023-10-29 05:05:46,615 | <ipython-input-15-568c4ad0345a>:180 | fit_round 11 received 2 results and 0 failures\n",
            "DEBUG:flwr:fit_round 11 received 2 results and 0 failures\n"
          ]
        },
        {
          "metadata": {
            "tags": null
          },
          "name": "stdout",
          "output_type": "stream",
          "text": [
            "Server side aggregated 2 trees.\n"
          ]
        },
        {
          "metadata": {
            "tags": null
          },
          "name": "stderr",
          "output_type": "stream",
          "text": [
            "INFO flwr 2023-10-29 05:07:01,493 | <ipython-input-15-568c4ad0345a>:51 | fit progress: (11, 0.002740345455983813, {'accuracy': tensor(0.9566)}, 2049.865379656)\n",
            "INFO:flwr:fit progress: (11, 0.002740345455983813, {'accuracy': tensor(0.9566)}, 2049.865379656)\n",
            "INFO flwr 2023-10-29 05:07:01,499 | <ipython-input-15-568c4ad0345a>:98 | evaluate_round 11: no clients selected, cancel\n",
            "INFO:flwr:evaluate_round 11: no clients selected, cancel\n",
            "DEBUG flwr 2023-10-29 05:07:01,503 | <ipython-input-15-568c4ad0345a>:165 | fit_round 12: strategy sampled 2 clients (out of 2)\n",
            "DEBUG:flwr:fit_round 12: strategy sampled 2 clients (out of 2)\n"
          ]
        },
        {
          "metadata": {
            "tags": null
          },
          "name": "stdout",
          "output_type": "stream",
          "text": [
            "Evaluation on the server: test_loss=0.0027, test_accuracy=0.9566\n",
            "Configuring round 12\n",
            "\u001b[2m\u001b[36m(DefaultActor pid=1295)\u001b[0m Client 0: received 2 trees\n",
            "\u001b[2m\u001b[36m(DefaultActor pid=1290)\u001b[0m Client 1: training for 100 iterations/updates\n",
            "\u001b[2m\u001b[36m(DefaultActor pid=1290)\u001b[0m Client 1: training round complete, 6400 examples processed\n",
            "\u001b[2m\u001b[36m(DefaultActor pid=1290)\u001b[0m Client 1: training for 100 iterations/updates\n",
            "\u001b[2m\u001b[36m(DefaultActor pid=1290)\u001b[0m Client 1: received 2 trees\n",
            "\u001b[2m\u001b[36m(DefaultActor pid=1290)\u001b[0m Client 1: training round complete, 6400 examples processed\n"
          ]
        },
        {
          "metadata": {
            "tags": null
          },
          "name": "stderr",
          "output_type": "stream",
          "text": [
            "DEBUG flwr 2023-10-29 05:08:51,815 | <ipython-input-15-568c4ad0345a>:180 | fit_round 12 received 2 results and 0 failures\n",
            "DEBUG:flwr:fit_round 12 received 2 results and 0 failures\n"
          ]
        },
        {
          "metadata": {
            "tags": null
          },
          "name": "stdout",
          "output_type": "stream",
          "text": [
            "Server side aggregated 2 trees.\n"
          ]
        },
        {
          "metadata": {
            "tags": null
          },
          "name": "stderr",
          "output_type": "stream",
          "text": [
            "INFO flwr 2023-10-29 05:10:01,287 | <ipython-input-15-568c4ad0345a>:51 | fit progress: (12, 0.0024898191027977372, {'accuracy': tensor(0.9583)}, 2229.659246996)\n",
            "INFO:flwr:fit progress: (12, 0.0024898191027977372, {'accuracy': tensor(0.9583)}, 2229.659246996)\n",
            "INFO flwr 2023-10-29 05:10:01,292 | <ipython-input-15-568c4ad0345a>:98 | evaluate_round 12: no clients selected, cancel\n",
            "INFO:flwr:evaluate_round 12: no clients selected, cancel\n",
            "DEBUG flwr 2023-10-29 05:10:01,297 | <ipython-input-15-568c4ad0345a>:165 | fit_round 13: strategy sampled 2 clients (out of 2)\n",
            "DEBUG:flwr:fit_round 13: strategy sampled 2 clients (out of 2)\n"
          ]
        },
        {
          "metadata": {
            "tags": null
          },
          "name": "stdout",
          "output_type": "stream",
          "text": [
            "Evaluation on the server: test_loss=0.0025, test_accuracy=0.9583\n",
            "Configuring round 13\n",
            "\u001b[2m\u001b[36m(DefaultActor pid=1295)\u001b[0m Client 0: received 2 trees\n",
            "\u001b[2m\u001b[36m(DefaultActor pid=1295)\u001b[0m Client 0: training for 100 iterations/updates\n",
            "\u001b[2m\u001b[36m(DefaultActor pid=1295)\u001b[0m Client 0: training round complete, 6400 examples processed\n",
            "\u001b[2m\u001b[36m(DefaultActor pid=1290)\u001b[0m Client 1: training for 100 iterations/updates\n",
            "\u001b[2m\u001b[36m(DefaultActor pid=1290)\u001b[0m Client 1: received 2 trees\n"
          ]
        },
        {
          "metadata": {
            "tags": null
          },
          "name": "stderr",
          "output_type": "stream",
          "text": [
            "DEBUG flwr 2023-10-29 05:11:49,373 | <ipython-input-15-568c4ad0345a>:180 | fit_round 13 received 2 results and 0 failures\n",
            "DEBUG:flwr:fit_round 13 received 2 results and 0 failures\n"
          ]
        },
        {
          "metadata": {
            "tags": null
          },
          "name": "stdout",
          "output_type": "stream",
          "text": [
            "\u001b[2m\u001b[36m(DefaultActor pid=1290)\u001b[0m Client 1: training round complete, 6400 examples processed\n",
            "Server side aggregated 2 trees.\n"
          ]
        },
        {
          "metadata": {
            "tags": null
          },
          "name": "stderr",
          "output_type": "stream",
          "text": [
            "INFO flwr 2023-10-29 05:13:01,768 | <ipython-input-15-568c4ad0345a>:51 | fit progress: (13, 0.002278136815093972, {'accuracy': tensor(0.9587)}, 2410.140610933)\n",
            "INFO:flwr:fit progress: (13, 0.002278136815093972, {'accuracy': tensor(0.9587)}, 2410.140610933)\n",
            "INFO flwr 2023-10-29 05:13:01,776 | <ipython-input-15-568c4ad0345a>:98 | evaluate_round 13: no clients selected, cancel\n",
            "INFO:flwr:evaluate_round 13: no clients selected, cancel\n",
            "DEBUG flwr 2023-10-29 05:13:01,779 | <ipython-input-15-568c4ad0345a>:165 | fit_round 14: strategy sampled 2 clients (out of 2)\n",
            "DEBUG:flwr:fit_round 14: strategy sampled 2 clients (out of 2)\n"
          ]
        },
        {
          "metadata": {
            "tags": null
          },
          "name": "stdout",
          "output_type": "stream",
          "text": [
            "Evaluation on the server: test_loss=0.0023, test_accuracy=0.9587\n",
            "Configuring round 14\n",
            "\u001b[2m\u001b[36m(DefaultActor pid=1290)\u001b[0m Client 0: received 2 trees\n",
            "\u001b[2m\u001b[36m(DefaultActor pid=1295)\u001b[0m Client 0: training for 100 iterations/updates\n",
            "\u001b[2m\u001b[36m(DefaultActor pid=1295)\u001b[0m Client 0: training round complete, 6400 examples processed\n",
            "\u001b[2m\u001b[36m(DefaultActor pid=1290)\u001b[0m Client 0: training for 100 iterations/updates\n",
            "\u001b[2m\u001b[36m(DefaultActor pid=1295)\u001b[0m Client 1: received 2 trees\n"
          ]
        },
        {
          "metadata": {
            "tags": null
          },
          "name": "stderr",
          "output_type": "stream",
          "text": [
            "DEBUG flwr 2023-10-29 05:14:46,077 | <ipython-input-15-568c4ad0345a>:180 | fit_round 14 received 2 results and 0 failures\n",
            "DEBUG:flwr:fit_round 14 received 2 results and 0 failures\n"
          ]
        },
        {
          "metadata": {
            "tags": null
          },
          "name": "stdout",
          "output_type": "stream",
          "text": [
            "\u001b[2m\u001b[36m(DefaultActor pid=1290)\u001b[0m Client 0: training round complete, 6400 examples processed\n",
            "Server side aggregated 2 trees.\n"
          ]
        },
        {
          "metadata": {
            "tags": null
          },
          "name": "stderr",
          "output_type": "stream",
          "text": [
            "INFO flwr 2023-10-29 05:15:58,121 | <ipython-input-15-568c4ad0345a>:51 | fit progress: (14, 0.002171669638695882, {'accuracy': tensor(0.9574)}, 2586.493253399)\n",
            "INFO:flwr:fit progress: (14, 0.002171669638695882, {'accuracy': tensor(0.9574)}, 2586.493253399)\n",
            "INFO flwr 2023-10-29 05:15:58,129 | <ipython-input-15-568c4ad0345a>:98 | evaluate_round 14: no clients selected, cancel\n",
            "INFO:flwr:evaluate_round 14: no clients selected, cancel\n",
            "DEBUG flwr 2023-10-29 05:15:58,133 | <ipython-input-15-568c4ad0345a>:165 | fit_round 15: strategy sampled 2 clients (out of 2)\n",
            "DEBUG:flwr:fit_round 15: strategy sampled 2 clients (out of 2)\n"
          ]
        },
        {
          "metadata": {
            "tags": null
          },
          "name": "stdout",
          "output_type": "stream",
          "text": [
            "Evaluation on the server: test_loss=0.0022, test_accuracy=0.9574\n",
            "Configuring round 15\n",
            "\u001b[2m\u001b[36m(DefaultActor pid=1295)\u001b[0m Client 0: received 2 trees\n",
            "\u001b[2m\u001b[36m(DefaultActor pid=1295)\u001b[0m Client 1: training for 100 iterations/updates\n",
            "\u001b[2m\u001b[36m(DefaultActor pid=1295)\u001b[0m Client 1: training round complete, 6400 examples processed\n",
            "\u001b[2m\u001b[36m(DefaultActor pid=1290)\u001b[0m Client 1: training for 100 iterations/updates\n",
            "\u001b[2m\u001b[36m(DefaultActor pid=1290)\u001b[0m Client 1: received 2 trees\n"
          ]
        },
        {
          "metadata": {
            "tags": null
          },
          "name": "stderr",
          "output_type": "stream",
          "text": [
            "DEBUG flwr 2023-10-29 05:17:45,233 | <ipython-input-15-568c4ad0345a>:180 | fit_round 15 received 2 results and 0 failures\n",
            "DEBUG:flwr:fit_round 15 received 2 results and 0 failures\n"
          ]
        },
        {
          "metadata": {
            "tags": null
          },
          "name": "stdout",
          "output_type": "stream",
          "text": [
            "\u001b[2m\u001b[36m(DefaultActor pid=1290)\u001b[0m Client 1: training round complete, 6400 examples processed\n",
            "Server side aggregated 2 trees.\n"
          ]
        },
        {
          "metadata": {
            "tags": null
          },
          "name": "stderr",
          "output_type": "stream",
          "text": [
            "INFO flwr 2023-10-29 05:18:57,650 | <ipython-input-15-568c4ad0345a>:51 | fit progress: (15, 0.0020641894052144684, {'accuracy': tensor(0.9583)}, 2766.022782862)\n",
            "INFO:flwr:fit progress: (15, 0.0020641894052144684, {'accuracy': tensor(0.9583)}, 2766.022782862)\n",
            "INFO flwr 2023-10-29 05:18:57,660 | <ipython-input-15-568c4ad0345a>:98 | evaluate_round 15: no clients selected, cancel\n",
            "INFO:flwr:evaluate_round 15: no clients selected, cancel\n",
            "DEBUG flwr 2023-10-29 05:18:57,667 | <ipython-input-15-568c4ad0345a>:165 | fit_round 16: strategy sampled 2 clients (out of 2)\n",
            "DEBUG:flwr:fit_round 16: strategy sampled 2 clients (out of 2)\n"
          ]
        },
        {
          "metadata": {
            "tags": null
          },
          "name": "stdout",
          "output_type": "stream",
          "text": [
            "Evaluation on the server: test_loss=0.0021, test_accuracy=0.9583\n",
            "Configuring round 16\n",
            "\u001b[2m\u001b[36m(DefaultActor pid=1295)\u001b[0m Client 0: received 2 trees\n",
            "\u001b[2m\u001b[36m(DefaultActor pid=1295)\u001b[0m Client 0: training for 100 iterations/updates\n",
            "\u001b[2m\u001b[36m(DefaultActor pid=1295)\u001b[0m Client 0: training round complete, 6400 examples processed\n",
            "\u001b[2m\u001b[36m(DefaultActor pid=1290)\u001b[0m Client 1: training for 100 iterations/updates\n",
            "\u001b[2m\u001b[36m(DefaultActor pid=1290)\u001b[0m Client 1: received 2 trees\n"
          ]
        },
        {
          "metadata": {
            "tags": null
          },
          "name": "stderr",
          "output_type": "stream",
          "text": [
            "DEBUG flwr 2023-10-29 05:20:42,778 | <ipython-input-15-568c4ad0345a>:180 | fit_round 16 received 2 results and 0 failures\n",
            "DEBUG:flwr:fit_round 16 received 2 results and 0 failures\n"
          ]
        },
        {
          "metadata": {
            "tags": null
          },
          "name": "stdout",
          "output_type": "stream",
          "text": [
            "\u001b[2m\u001b[36m(DefaultActor pid=1290)\u001b[0m Client 1: training round complete, 6400 examples processed\n",
            "Server side aggregated 2 trees.\n"
          ]
        },
        {
          "metadata": {
            "tags": null
          },
          "name": "stderr",
          "output_type": "stream",
          "text": [
            "INFO flwr 2023-10-29 05:21:54,557 | <ipython-input-15-568c4ad0345a>:51 | fit progress: (16, 0.001977685757356143, {'accuracy': tensor(0.9579)}, 2942.929142158)\n",
            "INFO:flwr:fit progress: (16, 0.001977685757356143, {'accuracy': tensor(0.9579)}, 2942.929142158)\n",
            "INFO flwr 2023-10-29 05:21:54,562 | <ipython-input-15-568c4ad0345a>:98 | evaluate_round 16: no clients selected, cancel\n",
            "INFO:flwr:evaluate_round 16: no clients selected, cancel\n",
            "DEBUG flwr 2023-10-29 05:21:54,566 | <ipython-input-15-568c4ad0345a>:165 | fit_round 17: strategy sampled 2 clients (out of 2)\n",
            "DEBUG:flwr:fit_round 17: strategy sampled 2 clients (out of 2)\n"
          ]
        },
        {
          "metadata": {
            "tags": null
          },
          "name": "stdout",
          "output_type": "stream",
          "text": [
            "Evaluation on the server: test_loss=0.0020, test_accuracy=0.9579\n",
            "Configuring round 17\n",
            "\u001b[2m\u001b[36m(DefaultActor pid=1295)\u001b[0m Client 0: received 2 trees\n",
            "\u001b[2m\u001b[36m(DefaultActor pid=1295)\u001b[0m Client 0: training for 100 iterations/updates\n",
            "\u001b[2m\u001b[36m(DefaultActor pid=1295)\u001b[0m Client 0: training round complete, 6400 examples processed\n",
            "\u001b[2m\u001b[36m(DefaultActor pid=1295)\u001b[0m Client 0: training for 100 iterations/updates\n",
            "\u001b[2m\u001b[36m(DefaultActor pid=1290)\u001b[0m Client 1: received 2 trees\n",
            "\u001b[2m\u001b[36m(DefaultActor pid=1295)\u001b[0m Client 0: training round complete, 6400 examples processed\n"
          ]
        },
        {
          "metadata": {
            "tags": null
          },
          "name": "stderr",
          "output_type": "stream",
          "text": [
            "DEBUG flwr 2023-10-29 05:23:38,716 | <ipython-input-15-568c4ad0345a>:180 | fit_round 17 received 2 results and 0 failures\n",
            "DEBUG:flwr:fit_round 17 received 2 results and 0 failures\n"
          ]
        },
        {
          "metadata": {
            "tags": null
          },
          "name": "stdout",
          "output_type": "stream",
          "text": [
            "Server side aggregated 2 trees.\n"
          ]
        },
        {
          "metadata": {
            "tags": null
          },
          "name": "stderr",
          "output_type": "stream",
          "text": [
            "INFO flwr 2023-10-29 05:24:48,974 | <ipython-input-15-568c4ad0345a>:51 | fit progress: (17, 0.0019591268363617293, {'accuracy': tensor(0.9582)}, 3117.3463784580003)\n",
            "INFO:flwr:fit progress: (17, 0.0019591268363617293, {'accuracy': tensor(0.9582)}, 3117.3463784580003)\n",
            "INFO flwr 2023-10-29 05:24:48,980 | <ipython-input-15-568c4ad0345a>:98 | evaluate_round 17: no clients selected, cancel\n",
            "INFO:flwr:evaluate_round 17: no clients selected, cancel\n",
            "DEBUG flwr 2023-10-29 05:24:48,983 | <ipython-input-15-568c4ad0345a>:165 | fit_round 18: strategy sampled 2 clients (out of 2)\n",
            "DEBUG:flwr:fit_round 18: strategy sampled 2 clients (out of 2)\n"
          ]
        },
        {
          "metadata": {
            "tags": null
          },
          "name": "stdout",
          "output_type": "stream",
          "text": [
            "Evaluation on the server: test_loss=0.0020, test_accuracy=0.9582\n",
            "Configuring round 18\n",
            "\u001b[2m\u001b[36m(DefaultActor pid=1290)\u001b[0m Client 1: received 2 trees\n",
            "\u001b[2m\u001b[36m(DefaultActor pid=1290)\u001b[0m Client 1: training for 100 iterations/updates\n",
            "\u001b[2m\u001b[36m(DefaultActor pid=1290)\u001b[0m Client 1: training round complete, 6400 examples processed\n",
            "\u001b[2m\u001b[36m(DefaultActor pid=1295)\u001b[0m Client 0: training for 100 iterations/updates\n",
            "\u001b[2m\u001b[36m(DefaultActor pid=1295)\u001b[0m Client 0: received 2 trees\n",
            "\u001b[2m\u001b[36m(DefaultActor pid=1295)\u001b[0m Client 0: training round complete, 6400 examples processed\n"
          ]
        },
        {
          "metadata": {
            "tags": null
          },
          "name": "stderr",
          "output_type": "stream",
          "text": [
            "DEBUG flwr 2023-10-29 05:26:35,031 | <ipython-input-15-568c4ad0345a>:180 | fit_round 18 received 2 results and 0 failures\n",
            "DEBUG:flwr:fit_round 18 received 2 results and 0 failures\n"
          ]
        },
        {
          "metadata": {
            "tags": null
          },
          "name": "stdout",
          "output_type": "stream",
          "text": [
            "Server side aggregated 2 trees.\n"
          ]
        },
        {
          "metadata": {
            "tags": null
          },
          "name": "stderr",
          "output_type": "stream",
          "text": [
            "INFO flwr 2023-10-29 05:27:43,997 | <ipython-input-15-568c4ad0345a>:51 | fit progress: (18, 0.0018971842880006228, {'accuracy': tensor(0.9583)}, 3292.36938688)\n",
            "INFO:flwr:fit progress: (18, 0.0018971842880006228, {'accuracy': tensor(0.9583)}, 3292.36938688)\n",
            "INFO flwr 2023-10-29 05:27:44,003 | <ipython-input-15-568c4ad0345a>:98 | evaluate_round 18: no clients selected, cancel\n",
            "INFO:flwr:evaluate_round 18: no clients selected, cancel\n",
            "DEBUG flwr 2023-10-29 05:27:44,007 | <ipython-input-15-568c4ad0345a>:165 | fit_round 19: strategy sampled 2 clients (out of 2)\n",
            "DEBUG:flwr:fit_round 19: strategy sampled 2 clients (out of 2)\n"
          ]
        },
        {
          "metadata": {
            "tags": null
          },
          "name": "stdout",
          "output_type": "stream",
          "text": [
            "Evaluation on the server: test_loss=0.0019, test_accuracy=0.9583\n",
            "Configuring round 19\n",
            "\u001b[2m\u001b[36m(DefaultActor pid=1295)\u001b[0m Client 0: received 2 trees\n",
            "\u001b[2m\u001b[36m(DefaultActor pid=1290)\u001b[0m Client 1: training for 100 iterations/updates\n",
            "\u001b[2m\u001b[36m(DefaultActor pid=1290)\u001b[0m Client 1: training round complete, 6400 examples processed\n",
            "\u001b[2m\u001b[36m(DefaultActor pid=1290)\u001b[0m Client 1: training for 100 iterations/updates\n",
            "\u001b[2m\u001b[36m(DefaultActor pid=1290)\u001b[0m Client 1: received 2 trees\n"
          ]
        },
        {
          "metadata": {
            "tags": null
          },
          "name": "stderr",
          "output_type": "stream",
          "text": [
            "DEBUG flwr 2023-10-29 05:29:29,281 | <ipython-input-15-568c4ad0345a>:180 | fit_round 19 received 2 results and 0 failures\n",
            "DEBUG:flwr:fit_round 19 received 2 results and 0 failures\n"
          ]
        },
        {
          "metadata": {
            "tags": null
          },
          "name": "stdout",
          "output_type": "stream",
          "text": [
            "\u001b[2m\u001b[36m(DefaultActor pid=1295)\u001b[0m Client 0: training round complete, 6400 examples processed\n",
            "Server side aggregated 2 trees.\n"
          ]
        },
        {
          "metadata": {
            "tags": null
          },
          "name": "stderr",
          "output_type": "stream",
          "text": [
            "INFO flwr 2023-10-29 05:30:39,344 | <ipython-input-15-568c4ad0345a>:51 | fit progress: (19, 0.0018657343181552582, {'accuracy': tensor(0.9579)}, 3467.716769945)\n",
            "INFO:flwr:fit progress: (19, 0.0018657343181552582, {'accuracy': tensor(0.9579)}, 3467.716769945)\n",
            "INFO flwr 2023-10-29 05:30:39,350 | <ipython-input-15-568c4ad0345a>:98 | evaluate_round 19: no clients selected, cancel\n",
            "INFO:flwr:evaluate_round 19: no clients selected, cancel\n",
            "DEBUG flwr 2023-10-29 05:30:39,354 | <ipython-input-15-568c4ad0345a>:165 | fit_round 20: strategy sampled 2 clients (out of 2)\n",
            "DEBUG:flwr:fit_round 20: strategy sampled 2 clients (out of 2)\n"
          ]
        },
        {
          "metadata": {
            "tags": null
          },
          "name": "stdout",
          "output_type": "stream",
          "text": [
            "Evaluation on the server: test_loss=0.0019, test_accuracy=0.9579\n",
            "Configuring round 20\n",
            "\u001b[2m\u001b[36m(DefaultActor pid=1295)\u001b[0m Client 0: received 2 trees\n",
            "\u001b[2m\u001b[36m(DefaultActor pid=1295)\u001b[0m Client 0: training for 100 iterations/updates\n",
            "\u001b[2m\u001b[36m(DefaultActor pid=1290)\u001b[0m Client 1: training round complete, 6400 examples processed\n",
            "\u001b[2m\u001b[36m(DefaultActor pid=1295)\u001b[0m Client 0: training for 100 iterations/updates\n",
            "\u001b[2m\u001b[36m(DefaultActor pid=1290)\u001b[0m Client 1: received 2 trees\n",
            "\u001b[2m\u001b[36m(DefaultActor pid=1295)\u001b[0m Client 0: training round complete, 6400 examples processed\n"
          ]
        },
        {
          "metadata": {
            "tags": null
          },
          "name": "stderr",
          "output_type": "stream",
          "text": [
            "DEBUG flwr 2023-10-29 05:32:24,496 | <ipython-input-15-568c4ad0345a>:180 | fit_round 20 received 2 results and 0 failures\n",
            "DEBUG:flwr:fit_round 20 received 2 results and 0 failures\n"
          ]
        },
        {
          "metadata": {
            "tags": null
          },
          "name": "stdout",
          "output_type": "stream",
          "text": [
            "Server side aggregated 2 trees.\n"
          ]
        },
        {
          "output_type": "stream",
          "name": "stderr",
          "text": [
            "INFO flwr 2023-10-29 05:33:34,717 | <ipython-input-15-568c4ad0345a>:51 | fit progress: (20, 0.001855810629580378, {'accuracy': tensor(0.9585)}, 3643.089183042)\n",
            "INFO:flwr:fit progress: (20, 0.001855810629580378, {'accuracy': tensor(0.9585)}, 3643.089183042)\n",
            "INFO flwr 2023-10-29 05:33:34,723 | <ipython-input-15-568c4ad0345a>:98 | evaluate_round 20: no clients selected, cancel\n",
            "INFO:flwr:evaluate_round 20: no clients selected, cancel\n",
            "INFO flwr 2023-10-29 05:33:34,727 | <ipython-input-15-568c4ad0345a>:79 | FL finished in 3643.099909049\n",
            "INFO:flwr:FL finished in 3643.099909049\n",
            "INFO flwr 2023-10-29 05:33:34,731 | app.py:225 | app_fit: losses_distributed []\n",
            "INFO:flwr:app_fit: losses_distributed []\n",
            "INFO flwr 2023-10-29 05:33:34,733 | app.py:226 | app_fit: metrics_distributed_fit {}\n",
            "INFO:flwr:app_fit: metrics_distributed_fit {}\n",
            "INFO flwr 2023-10-29 05:33:34,736 | app.py:227 | app_fit: metrics_distributed {}\n",
            "INFO:flwr:app_fit: metrics_distributed {}\n",
            "INFO flwr 2023-10-29 05:33:34,738 | app.py:228 | app_fit: losses_centralized [(0, 0.010716692314364961), (1, 0.009080865911813634), (2, 0.008359071660882263), (3, 0.0075889946694006425), (4, 0.006763193845017347), (5, 0.0060245180473365925), (6, 0.00525172293204363), (7, 0.004566967062677717), (8, 0.003970743491336437), (9, 0.003469869114272217), (10, 0.003040573830466739), (11, 0.002740345455983813), (12, 0.0024898191027977372), (13, 0.002278136815093972), (14, 0.002171669638695882), (15, 0.0020641894052144684), (16, 0.001977685757356143), (17, 0.0019591268363617293), (18, 0.0018971842880006228), (19, 0.0018657343181552582), (20, 0.001855810629580378)]\n",
            "INFO:flwr:app_fit: losses_centralized [(0, 0.010716692314364961), (1, 0.009080865911813634), (2, 0.008359071660882263), (3, 0.0075889946694006425), (4, 0.006763193845017347), (5, 0.0060245180473365925), (6, 0.00525172293204363), (7, 0.004566967062677717), (8, 0.003970743491336437), (9, 0.003469869114272217), (10, 0.003040573830466739), (11, 0.002740345455983813), (12, 0.0024898191027977372), (13, 0.002278136815093972), (14, 0.002171669638695882), (15, 0.0020641894052144684), (16, 0.001977685757356143), (17, 0.0019591268363617293), (18, 0.0018971842880006228), (19, 0.0018657343181552582), (20, 0.001855810629580378)]\n",
            "INFO flwr 2023-10-29 05:33:34,753 | app.py:229 | app_fit: metrics_centralized {'accuracy': [(0, tensor(0.8473)), (1, tensor(0.6667)), (2, tensor(0.6667)), (3, tensor(0.6667)), (4, tensor(0.8139)), (5, tensor(0.9411)), (6, tensor(0.9382)), (7, tensor(0.9532)), (8, tensor(0.9534)), (9, tensor(0.9554)), (10, tensor(0.9577)), (11, tensor(0.9566)), (12, tensor(0.9583)), (13, tensor(0.9587)), (14, tensor(0.9574)), (15, tensor(0.9583)), (16, tensor(0.9579)), (17, tensor(0.9582)), (18, tensor(0.9583)), (19, tensor(0.9579)), (20, tensor(0.9585))]}\n",
            "INFO:flwr:app_fit: metrics_centralized {'accuracy': [(0, tensor(0.8473)), (1, tensor(0.6667)), (2, tensor(0.6667)), (3, tensor(0.6667)), (4, tensor(0.8139)), (5, tensor(0.9411)), (6, tensor(0.9382)), (7, tensor(0.9532)), (8, tensor(0.9534)), (9, tensor(0.9554)), (10, tensor(0.9577)), (11, tensor(0.9566)), (12, tensor(0.9583)), (13, tensor(0.9587)), (14, tensor(0.9574)), (15, tensor(0.9583)), (16, tensor(0.9579)), (17, tensor(0.9582)), (18, tensor(0.9583)), (19, tensor(0.9579)), (20, tensor(0.9585))]}\n"
          ]
        },
        {
          "output_type": "stream",
          "name": "stdout",
          "text": [
            "Evaluation on the server: test_loss=0.0019, test_accuracy=0.9585\n",
            "History (loss, centralized):\n",
            "\tround 0: 0.010716692314364961\n",
            "\tround 1: 0.009080865911813634\n",
            "\tround 2: 0.008359071660882263\n",
            "\tround 3: 0.0075889946694006425\n",
            "\tround 4: 0.006763193845017347\n",
            "\tround 5: 0.0060245180473365925\n",
            "\tround 6: 0.00525172293204363\n",
            "\tround 7: 0.004566967062677717\n",
            "\tround 8: 0.003970743491336437\n",
            "\tround 9: 0.003469869114272217\n",
            "\tround 10: 0.003040573830466739\n",
            "\tround 11: 0.002740345455983813\n",
            "\tround 12: 0.0024898191027977372\n",
            "\tround 13: 0.002278136815093972\n",
            "\tround 14: 0.002171669638695882\n",
            "\tround 15: 0.0020641894052144684\n",
            "\tround 16: 0.001977685757356143\n",
            "\tround 17: 0.0019591268363617293\n",
            "\tround 18: 0.0018971842880006228\n",
            "\tround 19: 0.0018657343181552582\n",
            "\tround 20: 0.001855810629580378\n",
            "History (metrics, centralized):\n",
            "{'accuracy': [(0, tensor(0.8473)), (1, tensor(0.6667)), (2, tensor(0.6667)), (3, tensor(0.6667)), (4, tensor(0.8139)), (5, tensor(0.9411)), (6, tensor(0.9382)), (7, tensor(0.9532)), (8, tensor(0.9534)), (9, tensor(0.9554)), (10, tensor(0.9577)), (11, tensor(0.9566)), (12, tensor(0.9583)), (13, tensor(0.9587)), (14, tensor(0.9574)), (15, tensor(0.9583)), (16, tensor(0.9579)), (17, tensor(0.9582)), (18, tensor(0.9583)), (19, tensor(0.9579)), (20, tensor(0.9585))]}\n"
          ]
        },
        {
          "output_type": "execute_result",
          "data": {
            "text/plain": [
              "History (loss, centralized):\n",
              "\tround 0: 0.010716692314364961\n",
              "\tround 1: 0.009080865911813634\n",
              "\tround 2: 0.008359071660882263\n",
              "\tround 3: 0.0075889946694006425\n",
              "\tround 4: 0.006763193845017347\n",
              "\tround 5: 0.0060245180473365925\n",
              "\tround 6: 0.00525172293204363\n",
              "\tround 7: 0.004566967062677717\n",
              "\tround 8: 0.003970743491336437\n",
              "\tround 9: 0.003469869114272217\n",
              "\tround 10: 0.003040573830466739\n",
              "\tround 11: 0.002740345455983813\n",
              "\tround 12: 0.0024898191027977372\n",
              "\tround 13: 0.002278136815093972\n",
              "\tround 14: 0.002171669638695882\n",
              "\tround 15: 0.0020641894052144684\n",
              "\tround 16: 0.001977685757356143\n",
              "\tround 17: 0.0019591268363617293\n",
              "\tround 18: 0.0018971842880006228\n",
              "\tround 19: 0.0018657343181552582\n",
              "\tround 20: 0.001855810629580378\n",
              "History (metrics, centralized):\n",
              "{'accuracy': [(0, tensor(0.8473)), (1, tensor(0.6667)), (2, tensor(0.6667)), (3, tensor(0.6667)), (4, tensor(0.8139)), (5, tensor(0.9411)), (6, tensor(0.9382)), (7, tensor(0.9532)), (8, tensor(0.9534)), (9, tensor(0.9554)), (10, tensor(0.9577)), (11, tensor(0.9566)), (12, tensor(0.9583)), (13, tensor(0.9587)), (14, tensor(0.9574)), (15, tensor(0.9583)), (16, tensor(0.9579)), (17, tensor(0.9582)), (18, tensor(0.9583)), (19, tensor(0.9579)), (20, tensor(0.9585))]}"
            ]
          },
          "metadata": {},
          "execution_count": 17
        }
      ],
      "source": [
        "start_experiment(\n",
        "    task_type=task_type,\n",
        "    trainset=trainset,\n",
        "    testset=testset,\n",
        "    num_rounds=20,\n",
        "    client_tree_num=client_tree_num,\n",
        "    client_pool_size=client_num,\n",
        "    num_iterations=100,\n",
        "    batch_size=64,\n",
        "    fraction_fit=1.0,\n",
        "    min_fit_clients=1,\n",
        "    val_ratio=0.0,\n",
        ")"
      ]
    },
    {
      "cell_type": "code",
      "execution_count": null,
      "metadata": {
        "id": "3rY7cMwETBQH",
        "outputId": "80cd2c85-6710-4159-c31e-2e1ed25a61df",
        "colab": {
          "base_uri": "https://localhost:8080/"
        }
      },
      "outputs": [
        {
          "output_type": "stream",
          "name": "stderr",
          "text": [
            "/usr/local/lib/python3.10/dist-packages/ipykernel/ipkernel.py:283: DeprecationWarning: `should_run_async` will not call `transform_cell` automatically in the future. Please pass the result to `transformed_cell` argument and any exception that happen during thetransform in `preprocessing_exc_tuple` in IPython 7.17 and above.\n",
            "  and should_run_async(code)\n"
          ]
        }
      ],
      "source": []
    }
  ],
  "metadata": {
    "colab": {
      "provenance": [],
      "gpuClass": "premium",
      "include_colab_link": true
    },
    "gpuClass": "premium",
    "kernelspec": {
      "display_name": "FedXGBoost",
      "language": "python",
      "name": "python3"
    }
  },
  "nbformat": 4,
  "nbformat_minor": 0
}